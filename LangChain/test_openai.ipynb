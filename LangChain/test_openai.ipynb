{
 "cells": [
  {
   "cell_type": "code",
   "execution_count": 9,
   "id": "ace15b21-763e-432b-b741-a700a28af51d",
   "metadata": {},
   "outputs": [],
   "source": [
    "from langchain_community.document_loaders import DirectoryLoader\n",
    "from langchain_text_splitters import CharacterTextSplitter\n",
    "from langchain_text_splitters import RecursiveCharacterTextSplitter\n",
    "from langchain_text_splitters import TokenTextSplitter\n",
    "from langchain_cohere import CohereEmbeddings\n",
    "from langchain_openai import OpenAIEmbeddings\n",
    "from langchain.embeddings import CacheBackedEmbeddings\n",
    "from langchain.storage import LocalFileStore\n",
    "from langchain.document_loaders import TextLoader\n",
    "from langchain_community.vectorstores import FAISS\n",
    "import os\n",
    "from dotenv import load_dotenv\n",
    "from langchain.retrievers import ContextualCompressionRetriever\n",
    "from langchain.retrievers.document_compressors import LLMChainExtractor\n",
    "from langchain_openai import OpenAI\n",
    "from langchain.retrievers.contextual_compression import ContextualCompressionRetriever\n",
    "from langchain_cohere import CohereRerank\n",
    "from langchain_community.llms import Cohere\n",
    "from langchain.chains import RetrievalQA\n",
    "from langchain_community.llms import Ollama"
   ]
  },
  {
   "cell_type": "code",
   "execution_count": 3,
   "id": "f69d5957",
   "metadata": {},
   "outputs": [],
   "source": [
    "load_dotenv()\n",
    "COHERE_API_KEY = os.getenv('COHERE_API_KEY')\n",
    "OPENAI_API_KEY = os.getenv('OPENAI_API_KEY')"
   ]
  },
  {
   "cell_type": "code",
   "execution_count": 11,
   "id": "d7cb3f6a",
   "metadata": {},
   "outputs": [],
   "source": [
    "\n",
    "def pretty_print_docs(docs):\n",
    "    print(\n",
    "        f\"\\n{'-' * 100}\\n\".join(\n",
    "            [f\"Document {i+1}:\\n\\n\" + d.page_content for i, d in enumerate(docs)]\n",
    "        )\n",
    "    )\n",
    "\n",
    "cache_store = LocalFileStore(\"./cache/\")"
   ]
  },
  {
   "cell_type": "code",
   "execution_count": 12,
   "id": "a576087e",
   "metadata": {},
   "outputs": [],
   "source": [
    "# llm = OpenAI(model=\"gpt-3.5-turbo-instruct\", temperature=0, api_key=OPENAI_API_KEY)\n",
    "# llm = Cohere(temperature=0)\n",
    "llm = Ollama(model=\"zephyr\")"
   ]
  },
  {
   "cell_type": "code",
   "execution_count": null,
   "id": "ed9c7cd4",
   "metadata": {},
   "outputs": [],
   "source": []
  },
  {
   "cell_type": "code",
   "execution_count": 13,
   "id": "206eae33",
   "metadata": {},
   "outputs": [
    {
     "name": "stderr",
     "output_type": "stream",
     "text": [
      "100%|███████████████████████████████████████████████████████████████████████████████████████████████████████████████████████████████████████████████████████| 2/2 [00:00<00:00, 239.03it/s]\n"
     ]
    }
   ],
   "source": [
    "loader = DirectoryLoader('../data', glob=\"*.txt\", loader_cls=TextLoader, show_progress=True)\n",
    "docs = loader.load()"
   ]
  },
  {
   "cell_type": "code",
   "execution_count": 14,
   "id": "2d6420c0",
   "metadata": {},
   "outputs": [
    {
     "name": "stdout",
     "output_type": "stream",
     "text": [
      "33\n"
     ]
    }
   ],
   "source": [
    "text_splitter = RecursiveCharacterTextSplitter.from_tiktoken_encoder(\n",
    "    # model_name=\"gpt-3.5\",\n",
    "    chunk_size=1000,\n",
    "    chunk_overlap=200,\n",
    ")\n",
    "chunked = text_splitter.split_documents(docs)\n",
    "print(len(chunked))"
   ]
  },
  {
   "cell_type": "markdown",
   "id": "e92053c2",
   "metadata": {},
   "source": [
    "## OpenAI Embeddings\n"
   ]
  },
  {
   "cell_type": "code",
   "execution_count": 15,
   "id": "23705736",
   "metadata": {},
   "outputs": [],
   "source": [
    "embeddings_model = OpenAIEmbeddings(api_key=OPENAI_API_KEY)\n",
    "cached_embedder = CacheBackedEmbeddings.from_bytes_store(\n",
    "    embeddings_model, cache_store, namespace=embeddings_model.model)"
   ]
  },
  {
   "cell_type": "code",
   "execution_count": 16,
   "id": "cded9df4",
   "metadata": {},
   "outputs": [
    {
     "name": "stdout",
     "output_type": "stream",
     "text": [
      "CPU times: user 186 ms, sys: 18.3 ms, total: 204 ms\n",
      "Wall time: 1.6 s\n"
     ]
    }
   ],
   "source": [
    "%%time\n",
    "db = FAISS.from_documents(chunked, cached_embedder)"
   ]
  },
  {
   "cell_type": "code",
   "execution_count": 40,
   "id": "65cf0fd6",
   "metadata": {
    "scrolled": true
   },
   "outputs": [
    {
     "name": "stdout",
     "output_type": "stream",
     "text": [
      "Document 1:\n",
      "\n",
      "These monsters are considered the teenagers of the species and are among the most mobile denizens of the nine realms. Be careful, though, as they will strike with powerful melee attacks. Remember, when attacking enemies with blockable attacks, tap L1 at the last second to parry an incoming attack and apply a temporary stun effect – this will leave the enemy vulnerable to a flurry of quick attacks.\n",
      "\n",
      "Having taken down the Grim, pick up any loot that they may have dropped (such as crafting materials, Healthstones, etc.) and head to the nearby dock and climb the wooden structure to loot the Red Coffin, which is located on the ledge above, to receive +2 Forged Iron and some Hacksilver.\n",
      "\n",
      "Return to the zipline and jump down the nearby ledge. From here, proceed to climb up the chain that’s dangling from the wooden structure to reach the broken wheel – before interacting with the wheel, be sure to loot the Hacksilver chest that’s found not too far from Atreus.\n",
      "Having turned the broken wheel to create an opening to pass through, return to the boat and continue making your way along the river, passing beneath the bridge – remember to loot the Slay deposit and Hacksilver barrel before leaving this section of the river.\n",
      "\n",
      "Making it to the other side of the bridge, you’ll have several options to explore before following the main path towards the next gate. Firstly, you can explore the open river, where you’ll find Yggdrasil’s Dew and some Hacksilver, and you can dock at the nearby beach to your left to discover hidden chests and more.\n",
      "Aurvangar Wetlands - Yggdrasil’s Dew 1 Aurvangar Wetlands - Yggdrasil’s Dew 1 After passing through the giant wooden wheel you turned, slip beneath the nearby bridge and follow the left-hand wall to find the Yggdrasil’s Dew, which increases your core Runic stat by 2.\n",
      "Upon docking at the beach, you’ll be swarmed by several Wretches and Grims – take them out. Once clear, use your Axe to drop the bucket of Hacksilver hanging from the tree, followed by burning the Bramble covering a Hacksilver chest along the back of the area.\n",
      "\n",
      "Next, climb up the ledge to your right and burn the Bramble blocking the path, where you’ll then find a Hacksilver pouch by the ledge, and a Healthstone and Hacksilver chest along the bridge.\n",
      "\n",
      "With those collected, return to Atreus and burn the Bramble above, along the edges of the rock formation. Climb up to the top of the formation, where you’ll find a Red Coffin with +2 Rawhide and some Hacksilver. You can also find a Hacksilver pouch hidden beneath some Bramble, next to a fallen Grim.\n",
      "Furthermore, drop down the nearby ledge and destroy the hanging bucket to receive +1 Rawhide. With that collected, return to your boat and continue slightly further up the river, where you’ll discover another docking location – once docked, another group of Wretches and Grims’ll attack you, so take them out to continue.\n",
      "\n",
      "Once the area is clear, head over towards Atreus and interact with the contraption that’s stopping a geyser from spouting. With the geysers free, take the path to your right and climb up the ledge – you’ll need to take out two more Grims when reaching the top.\n",
      "\n",
      "From here, look over at the wheel and throw your Axe into the second geyser located on the rock formation. Successfully lowing the gate, return to the boat, and continue following the river – collecting any Hacksilver barrels along the way.\n",
      "Optional Side Area\n",
      "Before you continue with the main quest, you’ll find an optional side area that houses a Legendary Chest containing a weapon upgrade, a Lore Marker, and a Nornir Chest that will increase your maximum rage.\n",
      "If you’re not looking to clear this optional area, click here to skip ahead to the rest of the main quest.\n",
      "----------------------------------------------------------------------------------------------------\n",
      "Document 2:\n",
      "\n",
      "Surviving Fimbulwinter is the first main quest you’ll receive in God of War Ragnarok. This walkthrough guide will offer tips for conquering enemies and defeating challenging bosses, solutions to every puzzle, and locations of all collectibles that Kratos and Atreus will encounter along their journey as they attempt to prevent the prophecy of Ragnarok coming to pass.\n",
      "Spoiler Warning This walkthrough will include story spoilers for the first quest, Surviving Fimbulwinter, so proceed with caution.\n",
      "Surviving Fimbulwinter Walkthrough Guide\n",
      "Journey Rewards : Tap to Reveal .\n",
      "Need help taking down one of the many bosses you’ll encounter throughout this chapter? Click the links below to jump to…\n",
      "How to Defeat Bjorn How to Defeat the Main Boss How to Defeat the Huntress\n",
      "Stuck and need some help with a particular objective in The Quest for Tyr? Click the spoiler box below to find a list of links to all objectives in this chapter.\n",
      "Show Spoilers\n",
      "Surviving Fimbulwinter Walkthrough\n",
      "\n",
      "When starting the game, you are prompted to select your difficulty setting – this can be changed at any time throughout the game, unless you want to experience Give Me God of War. Once you've chosen your difficulty, you’ll immediately begin a cutscene that sees Kratos reflecting by a fire as he crafts arrows for Atreus.\n",
      "\n",
      "Ready to move out before the snowstorm worsens, Atreus will help prepare the sled for their journey home. Then, extinguishing the fire, Kratos will load Atreus’ recently hunted deer onto the sled, and your journey home will begin.\n",
      "Gaining control of Kratos, steer the sled through the stave. Not too long into the journey, you’ll hear a falcon screech from ahead.\n",
      "\n",
      "With the wolves stopping in their tracks and concern laced in their voices, Atreus spots a shadowed figure in the distance, who turns out to be Freya, as she seeks revenge for the needless death of her son, Baldur, that occurred in the previous game.\n",
      "\n",
      "Urging the wolves to continue, despite the danger ahead, Freya transforms into a falcon before soon returning to her human form as she launches an attack on Kratos. Fending off her attack by pressing the button prompt (L1), the father and son will continue their escape.\n",
      "\n",
      "Having regained control of Kratos, steer the sled and avoid all obstacles that block your track – don’t fear if you do happen to run into any, as the wolves will jump over the rubble, and your sled will break through. After dodging your first two obstacles, Freya will launch another attack on Kratos, and you’ll be prompted to button mash circle to fend her off.\n",
      "After successfully fending her off for a second time, Freya will continue her pursuit, causing plenty of damage in her path as she pulls out all stops in an attempt to stop Kratos and Atreus from escaping.\n",
      "\n",
      "Coming around for a third attempt, Freya will knock Atreus out of the sled and will grab ahold of Kratos. To fend off her attacks, you’ll need to press L1, R1, L1, and L1 to succeed in fending her off. Then, after helping Atreus back into the sled, Freya will attempt one final attack as she launches herself at Kratos, driving a sword into his shoulder – you’ll need to mash circle to survive.\n",
      "Having stopped her pursuit, a short cutscene will begin that sees the pair surviving the trek through the stave. Ready to head home, take control of the sled and follow the path home.\n",
      "\n",
      "After arriving, take the path left and follow the lit lanterns as you make your way toward Kratos’ home.\n",
      "\n",
      "When nearing the house, a cutscene will begin that sees Atreus comforting his dying wolf, Fenrir, before he passes. Following Fenrir’s death, Kratos insists on training – despite the circumstances. But, as you would suspect, Atreus doesn’t take well to the comment and will refuse, instead heading off into the woods to bury his friend.\n",
      "Respecting Atreus’ request for a moment alone, Kratos will head inside, briefly conversing with Mimir, before drifting off to sleep.\n",
      "----------------------------------------------------------------------------------------------------\n",
      "Document 3:\n",
      "\n",
      "In terms of the environmental features, this battle will be like most that you have encountered thus far; however, much like the yard outside of Durlin’s Office, you’ll find two large cranes (one along the eastern side and one to the southwest) that Atreus can explode with his Sonic Arrows when aiming for the green ore at the base of the poles.\n",
      "\n",
      "While not essential, destroying these posts will prevent the Cursed Grims from getting a height advantage, where they’ll throw poisonous saliva in your direction.\n",
      "Once the area is clear, let’s clean up the two final collectibles that can be found in this area.\n",
      "Jarnsmida Pitmines - Legendary Chest & Kvasir’s Tool and Bang Poem Jarnsmida Pitmines - Legendary Chest 1 Kvasir’s Poems 4 - Tool and Bang Chest Contains : Tap to Reveal Poem Reference : Tap to Reveal To start, stand where the cart is and face forwards into the cave: here, make a wide U-turn to your right – you’ll discover a Hacksilver chest to your left when taking this path. Here you should spot a pillar holding up the water trough with gold segments: use the Blades of Chaos to turn the end of the trough, which will cause a giant crate holding a stone block to move towards you. While it’s doing this, use the explosive pot to your left to destroy the gold rocks, letting you leap up to the crane’s stone block one it’s in position. Once you’re on top of the stone block, throw the Leviathan Axe into the end of the trough: this blocks the water flow, making the crane move you to its original starting position. When the stone block has finally stopped moving, you can have Kratos hang off the side of the stone black and then leap over to a new area. From there, follow the mine cart tracks uphill: the Legendary Chest will be at the top on your right, not too far from the purple glowing artifact nearby. The chest contains the Pommels of the Undying Spark, which has +6 Strength, +3 Runic, and has Scorching Burn, which increases the damage the Burn status inflicts.\n",
      "----------------------------------------------------------------------------------------------------\n",
      "Document 4:\n",
      "\n",
      "To get the battle started, sprint off the nearby ledge and press R1 while in the air to unleash a ‘Death From Above’ attack – while you won’t kill the enemy in one fell swoop, it’ll take off a large chunk of their health.\n",
      "\n",
      "Before traveling further into the cavern, search the camp for small pouches of Hacksilver, which are mostly found around the firepits. You’ll also find a Healthstone when following the left of where you entered.\n",
      "Destroy environment items such as crates and pots to find small amounts of Hacksilver. While not much, it’ll quickly begin to add up over time.\n",
      "Ready to continue, follow the trail of blood as it heads deeper into the cavern – along the way, you’ll find more Hacksilver by the fires, so keep your eyes peeled.\n",
      "\n",
      "After rounding the corner, you’ll encounter two more Raiders and a Raider Scout perched atop a large ledge.\n",
      "When entering the open area, you’ll find a small Hacksilver chest just to your right and a Healthstone at the top of the stairs.\n",
      "Once the area is clear, head up the set of stairs, take the path left and climb up the nearby ledge marked with a glyph. When you reach the top, you’ll encounter three more Raiders, including a Raider Scout. After defeating the Raiders, continue up the next ledge, where you’ll find a Healthstone by the firepit.\n",
      "Continue following the path as it leads outside, where you’ll enter a short cutscene that sees Katros continuing his search for Atreus, only to be caught off guard by a giant bear.\n",
      "Defeat Bjorn\n",
      "As the bear sends you tumbling down to the ground below, you’ll need to mash circle to break free from its gripe. Now, Bjorn is by far the toughest enemy you’ll have faced thus far, and with a health bar broken down into five sections, you’ll need to unleash a lot of damage to take it down.\n",
      "\n",
      "Bjorn has two main attacks: a semi-blockable swipe attack that’s often combined with a charged entry and an unblockable ground slam that will deal damage through the guard. Now, it’s worth mentioning that when Bjorn performs his swipe attack, it’ll appear with yellow rings, indicating that the attack is blockable but has block breaks that can leave Kratos vulnerable to damage.\n",
      "\n",
      "To avoid this damage, you’ll need to ensure you’re parrying each of the three swipes; otherwise, you’ll be vulnerable to damage.\n",
      "\n",
      "Bjorn’s ground slam will appear with red rings, indicating that the attack cannot be blocked, and will deal damage through the guard, so it’s essential to your survival to dodge and avoid this attack at all costs. Keep in mind that this attack has a small AoE (area of effect) radius, so you’ll need to be well clear to avoid damage.\n",
      "\n",
      "Due to its tough hide, throwing your Axe at Bjorn will have little effect, depleting only small amounts of health on each hit. For this reason, we recommend charging your Axe with Frost and then waiting for the bear to perform a slam – which can occur as part of its main slam attack if you’re standing within melee range after it performs a flurry of swipes, or after it charges at you.\n",
      "\n",
      "Once Bjorn returns to the ground, sprint over and unleash a flurry of heavy and light attacks, as there’s a small window of opportunity where the risk of being hit is very low, as the bear will attempt to regain its footing before launching another attack.\n",
      "After you’ve performed a handful of attacks, back up quickly to avoid taking damage from potential swipes, which have a relatively large radius. However, if you stay close for too long, the bear will bite into you and toss you backward after mashing Circle to escape.\n",
      "It is also worth noting that, like other enemies, Bjorn’s attacks can be canceled with a well-timed Axe throw or melee attack. Furthermore, if you’re starting to run low on health, have Kratos break through the small trees that litter the area in hopes of receiving some Healthstones.\n"
     ]
    }
   ],
   "source": [
    "\n",
    "# retriever = db.as_retriever()\n",
    "retriever = db.as_retriever(search_type=\"mmr\")\n",
    "\n",
    "retrieved_docs = retriever.get_relevant_documents(\"How do I deal with Enhanced Grims?\")\n",
    "pretty_print_docs(retrieved_docs)"
   ]
  },
  {
   "cell_type": "code",
   "execution_count": 41,
   "id": "44f01030",
   "metadata": {
    "scrolled": true
   },
   "outputs": [
    {
     "name": "stderr",
     "output_type": "stream",
     "text": [
      "/Users/jaxxsulav/Projects/LLM/Andromeda1/LangChain/env/lib/python3.11/site-packages/langchain/chains/llm.py:316: UserWarning: The predict_and_parse method is deprecated, instead pass an output parser directly to LLMChain.\n",
      "  warnings.warn(\n",
      "/Users/jaxxsulav/Projects/LLM/Andromeda1/LangChain/env/lib/python3.11/site-packages/langchain/chains/llm.py:316: UserWarning: The predict_and_parse method is deprecated, instead pass an output parser directly to LLMChain.\n",
      "  warnings.warn(\n",
      "/Users/jaxxsulav/Projects/LLM/Andromeda1/LangChain/env/lib/python3.11/site-packages/langchain/chains/llm.py:316: UserWarning: The predict_and_parse method is deprecated, instead pass an output parser directly to LLMChain.\n",
      "  warnings.warn(\n",
      "/Users/jaxxsulav/Projects/LLM/Andromeda1/LangChain/env/lib/python3.11/site-packages/langchain/chains/llm.py:316: UserWarning: The predict_and_parse method is deprecated, instead pass an output parser directly to LLMChain.\n",
      "  warnings.warn(\n"
     ]
    },
    {
     "name": "stdout",
     "output_type": "stream",
     "text": [
      "Document 1:\n",
      "\n",
      "To deal with Enhanced Grims, it is recommended to tap L1 at the last second while attacking enemies with blockable attacks to parry their incoming attacks and apply a temporary stun effect, leaving them vulnerable to quick attacks. This technique can be useful when facing these mobile denizens of the nine realms, who strike with powerful melee attacks and should be handled with caution. Additionally, it is suggested to loot any crafting materials, Healthstones, or Hacksilver that Enhanced Grims may drop upon defeating them.\n",
      "----------------------------------------------------------------------------------------------------\n",
      "Document 2:\n",
      "\n",
      "Question: How do I deal with Enhanced Grims?\n",
      "\n",
      "Relevant context: None, the given question does not appear in the provided context. Return NO_OUTPUT.\n",
      "----------------------------------------------------------------------------------------------------\n",
      "Document 3:\n",
      "\n",
      "Question: How do I deal with Enhanced Grims?\n",
      "\n",
      "Relevant parts:\n",
      "- \"Cursed Grims from getting a height advantage\"\n",
      "- \"Poisonous saliva in your direction\"\n",
      "- \"Two large cranes... That Atreus can explode with his Sonic Arrows when aiming for the green ore at the base of the poles.\" Destroying these posts will prevent the Cursed Grims from getting a height advantage.\n",
      "\n",
      "Extracted answer: To deal with Enhanced Grims in this battle, you can prevent them from getting a height advantage by destroying the two large cranes using Atreus' Sonic Arrows. This can be done by aiming for the green ore at the base of the poles. As these cranes will provide the Cursed Grims with a vantage point to throw poisonous saliva, eliminating them will also make it easier to fight against the Enhanced Grims.\n",
      "----------------------------------------------------------------------------------------------------\n",
      "Document 4:\n",
      "\n",
      "Question: How do I deal with Enhanced Grims?\n",
      "\n",
      "Relevant part (as is):\n",
      "\n",
      "Before traveling further into the cavern, search the camp for small pouches of Hacksilver, which are mostly found around the firepits. You’ll also find a Healthstone when following the left of where you entered.\n",
      "\n",
      "Destroy environment items such as crates and pots to find small amounts of Hacksilver. While not much, it’ll quickly begin to add up over time.\n",
      "\n",
      "When entering the open area, you’ll find a small Hacksilver chest just to your right and a Healthstone at the top of the stairs.\n",
      "\n",
      "After rounding the corner, you’ll encounter two more Raiders and a Raider Scout perched atop a large ledge.\n",
      "\n",
      "After defeating the Raiders, continue up the next ledge, where you’ll find a Healthstone by the firepit.\n",
      "\n",
      "The game introduces Enhanced Grims, which are tougher versions of regular grims. To deal with them, one possible strategy is to gather resources such as Hacksilver and Healthstones from the environment. These items can be found in camps, firepits, crates, and pots. While they may not provide much at first, they will add up over time, especially if you search thoroughly. Additionally, taking out regular enemies like Raiders and a Raider Scout can also yield resources that might help in fighting the Enhanced Grims. The Healthstones are particularly important as they restore Kratos' health, which is essential when facing tougher opponents.\n"
     ]
    }
   ],
   "source": [
    "compressor = LLMChainExtractor.from_llm(llm)\n",
    "compression_retriever = ContextualCompressionRetriever(\n",
    "    base_compressor=compressor, base_retriever=retriever\n",
    ")\n",
    "\n",
    "compressed_docs = compression_retriever.get_relevant_documents(\n",
    "    \"How do I deal with Enhanced Grims?\"\n",
    ")\n",
    "pretty_print_docs(compressed_docs)"
   ]
  },
  {
   "cell_type": "code",
   "execution_count": 42,
   "id": "27dad796",
   "metadata": {},
   "outputs": [
    {
     "name": "stderr",
     "output_type": "stream",
     "text": [
      "/Users/jaxxsulav/Projects/LLM/Andromeda1/LangChain/env/lib/python3.11/site-packages/langchain/chains/llm.py:316: UserWarning: The predict_and_parse method is deprecated, instead pass an output parser directly to LLMChain.\n",
      "  warnings.warn(\n",
      "/Users/jaxxsulav/Projects/LLM/Andromeda1/LangChain/env/lib/python3.11/site-packages/langchain/chains/llm.py:316: UserWarning: The predict_and_parse method is deprecated, instead pass an output parser directly to LLMChain.\n",
      "  warnings.warn(\n",
      "/Users/jaxxsulav/Projects/LLM/Andromeda1/LangChain/env/lib/python3.11/site-packages/langchain/chains/llm.py:316: UserWarning: The predict_and_parse method is deprecated, instead pass an output parser directly to LLMChain.\n",
      "  warnings.warn(\n",
      "/Users/jaxxsulav/Projects/LLM/Andromeda1/LangChain/env/lib/python3.11/site-packages/langchain/chains/llm.py:316: UserWarning: The predict_and_parse method is deprecated, instead pass an output parser directly to LLMChain.\n",
      "  warnings.warn(\n"
     ]
    },
    {
     "data": {
      "text/plain": [
       "{'query': 'How do I deal with Enhanced Grims?',\n",
       " 'result': 'The provided context does not offer any information on how to deal with Enhanced Grims. Based on the description of these enemies as \"the teenagers of the species\" and \"among the most mobile denizens of the nine realms with powerful melee attacks,\" it\\'s recommended to parry their blockable attacks by tapping L1 at the last second, which will apply a temporary stun effect and leave them vulnerable to quick attacks. However, there is no further information provided about their behavior or weaknesses beyond this basic strategy. It\\'s possible that additional context could offer more details on how to effectively defeat Enhanced Grims, but without further information it\\'s impossible to provide specific strategies or tactics for dealing with these enemies.'}"
      ]
     },
     "execution_count": 42,
     "metadata": {},
     "output_type": "execute_result"
    }
   ],
   "source": [
    "chain = RetrievalQA.from_chain_type(\n",
    "    llm=llm, retriever=compression_retriever\n",
    ")\n",
    "chain({\"query\": \"How do I deal with Enhanced Grims?\"})"
   ]
  },
  {
   "cell_type": "code",
   "execution_count": 45,
   "id": "6338c479",
   "metadata": {
    "scrolled": true
   },
   "outputs": [
    {
     "name": "stdout",
     "output_type": "stream",
     "text": [
      "Document 1:\n",
      "\n",
      "These monsters are considered the teenagers of the species and are among the most mobile denizens of the nine realms. Be careful, though, as they will strike with powerful melee attacks. Remember, when attacking enemies with blockable attacks, tap L1 at the last second to parry an incoming attack and apply a temporary stun effect – this will leave the enemy vulnerable to a flurry of quick attacks.\n",
      "\n",
      "Having taken down the Grim, pick up any loot that they may have dropped (such as crafting materials, Healthstones, etc.) and head to the nearby dock and climb the wooden structure to loot the Red Coffin, which is located on the ledge above, to receive +2 Forged Iron and some Hacksilver.\n",
      "\n",
      "Return to the zipline and jump down the nearby ledge. From here, proceed to climb up the chain that’s dangling from the wooden structure to reach the broken wheel – before interacting with the wheel, be sure to loot the Hacksilver chest that’s found not too far from Atreus.\n",
      "Having turned the broken wheel to create an opening to pass through, return to the boat and continue making your way along the river, passing beneath the bridge – remember to loot the Slay deposit and Hacksilver barrel before leaving this section of the river.\n",
      "\n",
      "Making it to the other side of the bridge, you’ll have several options to explore before following the main path towards the next gate. Firstly, you can explore the open river, where you’ll find Yggdrasil’s Dew and some Hacksilver, and you can dock at the nearby beach to your left to discover hidden chests and more.\n",
      "Aurvangar Wetlands - Yggdrasil’s Dew 1 Aurvangar Wetlands - Yggdrasil’s Dew 1 After passing through the giant wooden wheel you turned, slip beneath the nearby bridge and follow the left-hand wall to find the Yggdrasil’s Dew, which increases your core Runic stat by 2.\n",
      "Upon docking at the beach, you’ll be swarmed by several Wretches and Grims – take them out. Once clear, use your Axe to drop the bucket of Hacksilver hanging from the tree, followed by burning the Bramble covering a Hacksilver chest along the back of the area.\n",
      "\n",
      "Next, climb up the ledge to your right and burn the Bramble blocking the path, where you’ll then find a Hacksilver pouch by the ledge, and a Healthstone and Hacksilver chest along the bridge.\n",
      "\n",
      "With those collected, return to Atreus and burn the Bramble above, along the edges of the rock formation. Climb up to the top of the formation, where you’ll find a Red Coffin with +2 Rawhide and some Hacksilver. You can also find a Hacksilver pouch hidden beneath some Bramble, next to a fallen Grim.\n",
      "Furthermore, drop down the nearby ledge and destroy the hanging bucket to receive +1 Rawhide. With that collected, return to your boat and continue slightly further up the river, where you’ll discover another docking location – once docked, another group of Wretches and Grims’ll attack you, so take them out to continue.\n",
      "\n",
      "Once the area is clear, head over towards Atreus and interact with the contraption that’s stopping a geyser from spouting. With the geysers free, take the path to your right and climb up the ledge – you’ll need to take out two more Grims when reaching the top.\n",
      "\n",
      "From here, look over at the wheel and throw your Axe into the second geyser located on the rock formation. Successfully lowing the gate, return to the boat, and continue following the river – collecting any Hacksilver barrels along the way.\n",
      "Optional Side Area\n",
      "Before you continue with the main quest, you’ll find an optional side area that houses a Legendary Chest containing a weapon upgrade, a Lore Marker, and a Nornir Chest that will increase your maximum rage.\n",
      "If you’re not looking to clear this optional area, click here to skip ahead to the rest of the main quest.\n",
      "----------------------------------------------------------------------------------------------------\n",
      "Document 2:\n",
      "\n",
      "In terms of the environmental features, this battle will be like most that you have encountered thus far; however, much like the yard outside of Durlin’s Office, you’ll find two large cranes (one along the eastern side and one to the southwest) that Atreus can explode with his Sonic Arrows when aiming for the green ore at the base of the poles.\n",
      "\n",
      "While not essential, destroying these posts will prevent the Cursed Grims from getting a height advantage, where they’ll throw poisonous saliva in your direction.\n",
      "Once the area is clear, let’s clean up the two final collectibles that can be found in this area.\n",
      "Jarnsmida Pitmines - Legendary Chest & Kvasir’s Tool and Bang Poem Jarnsmida Pitmines - Legendary Chest 1 Kvasir’s Poems 4 - Tool and Bang Chest Contains : Tap to Reveal Poem Reference : Tap to Reveal To start, stand where the cart is and face forwards into the cave: here, make a wide U-turn to your right – you’ll discover a Hacksilver chest to your left when taking this path. Here you should spot a pillar holding up the water trough with gold segments: use the Blades of Chaos to turn the end of the trough, which will cause a giant crate holding a stone block to move towards you. While it’s doing this, use the explosive pot to your left to destroy the gold rocks, letting you leap up to the crane’s stone block one it’s in position. Once you’re on top of the stone block, throw the Leviathan Axe into the end of the trough: this blocks the water flow, making the crane move you to its original starting position. When the stone block has finally stopped moving, you can have Kratos hang off the side of the stone black and then leap over to a new area. From there, follow the mine cart tracks uphill: the Legendary Chest will be at the top on your right, not too far from the purple glowing artifact nearby. The chest contains the Pommels of the Undying Spark, which has +6 Strength, +3 Runic, and has Scorching Burn, which increases the damage the Burn status inflicts.\n",
      "----------------------------------------------------------------------------------------------------\n",
      "Document 3:\n",
      "\n",
      "To get the battle started, sprint off the nearby ledge and press R1 while in the air to unleash a ‘Death From Above’ attack – while you won’t kill the enemy in one fell swoop, it’ll take off a large chunk of their health.\n",
      "\n",
      "Before traveling further into the cavern, search the camp for small pouches of Hacksilver, which are mostly found around the firepits. You’ll also find a Healthstone when following the left of where you entered.\n",
      "Destroy environment items such as crates and pots to find small amounts of Hacksilver. While not much, it’ll quickly begin to add up over time.\n",
      "Ready to continue, follow the trail of blood as it heads deeper into the cavern – along the way, you’ll find more Hacksilver by the fires, so keep your eyes peeled.\n",
      "\n",
      "After rounding the corner, you’ll encounter two more Raiders and a Raider Scout perched atop a large ledge.\n",
      "When entering the open area, you’ll find a small Hacksilver chest just to your right and a Healthstone at the top of the stairs.\n",
      "Once the area is clear, head up the set of stairs, take the path left and climb up the nearby ledge marked with a glyph. When you reach the top, you’ll encounter three more Raiders, including a Raider Scout. After defeating the Raiders, continue up the next ledge, where you’ll find a Healthstone by the firepit.\n",
      "Continue following the path as it leads outside, where you’ll enter a short cutscene that sees Katros continuing his search for Atreus, only to be caught off guard by a giant bear.\n",
      "Defeat Bjorn\n",
      "As the bear sends you tumbling down to the ground below, you’ll need to mash circle to break free from its gripe. Now, Bjorn is by far the toughest enemy you’ll have faced thus far, and with a health bar broken down into five sections, you’ll need to unleash a lot of damage to take it down.\n",
      "\n",
      "Bjorn has two main attacks: a semi-blockable swipe attack that’s often combined with a charged entry and an unblockable ground slam that will deal damage through the guard. Now, it’s worth mentioning that when Bjorn performs his swipe attack, it’ll appear with yellow rings, indicating that the attack is blockable but has block breaks that can leave Kratos vulnerable to damage.\n",
      "\n",
      "To avoid this damage, you’ll need to ensure you’re parrying each of the three swipes; otherwise, you’ll be vulnerable to damage.\n",
      "\n",
      "Bjorn’s ground slam will appear with red rings, indicating that the attack cannot be blocked, and will deal damage through the guard, so it’s essential to your survival to dodge and avoid this attack at all costs. Keep in mind that this attack has a small AoE (area of effect) radius, so you’ll need to be well clear to avoid damage.\n",
      "\n",
      "Due to its tough hide, throwing your Axe at Bjorn will have little effect, depleting only small amounts of health on each hit. For this reason, we recommend charging your Axe with Frost and then waiting for the bear to perform a slam – which can occur as part of its main slam attack if you’re standing within melee range after it performs a flurry of swipes, or after it charges at you.\n",
      "\n",
      "Once Bjorn returns to the ground, sprint over and unleash a flurry of heavy and light attacks, as there’s a small window of opportunity where the risk of being hit is very low, as the bear will attempt to regain its footing before launching another attack.\n",
      "After you’ve performed a handful of attacks, back up quickly to avoid taking damage from potential swipes, which have a relatively large radius. However, if you stay close for too long, the bear will bite into you and toss you backward after mashing Circle to escape.\n",
      "It is also worth noting that, like other enemies, Bjorn’s attacks can be canceled with a well-timed Axe throw or melee attack. Furthermore, if you’re starting to run low on health, have Kratos break through the small trees that litter the area in hopes of receiving some Healthstones.\n"
     ]
    }
   ],
   "source": [
    "compressor = CohereRerank()\n",
    "compression_retriever = ContextualCompressionRetriever(\n",
    "    base_compressor=compressor, base_retriever=retriever\n",
    ")\n",
    "\n",
    "compressed_docs = compression_retriever.get_relevant_documents(\n",
    "    \"How do I deal with Enhanced Grims?\"\n",
    ")\n",
    "pretty_print_docs(compressed_docs)"
   ]
  },
  {
   "cell_type": "code",
   "execution_count": 46,
   "id": "67abf1be",
   "metadata": {},
   "outputs": [
    {
     "data": {
      "text/plain": [
       "{'query': 'How do I deal with Enhanced Grims?',\n",
       " 'result': \"To deal with Enhanced Grims, you can use a variety of strategies. Here are some tips:\\n\\n1. Use the Blades of Chaos to stun them: One effective way to take down Enhanced Grims is by stunning them with your Blades of Chaos. When they're stunned, you can deal heavy damage without having to worry about their poisonous saliva.\\n\\n2. Keep moving: Enhanced Grims have a wide range attack, so it's essential to keep moving and avoid getting cornered. This will also prevent them from being able to spit at you continuously.\\n\\n3. Use ranged attacks: The Leviathan Axe and the Blades of Chaos both have ranged attacks that can be used to take down Enhanced Grims from a distance. This is especially useful if there are multiple grims in the area, as it allows you to thin out their numbers before engaging them in melee combat.\\n\\n4. Use elemental weapons: Elemental weapons like the Frozen Axe and the Blaze of Set can be effective against Enhanced Grims. The Frozen Axe can freeze the grims, making them vulnerable to attack, while the Blaze of Set can burn them, reducing their health quickly.\\n\\n5. Use cover: Enhanced Grims can deal heavy damage, so it's essential to use cover to avoid getting hit. This will also prevent them from being able to spit at you continuously.\\n\\n6. Take out the Cursed Grims first: If there are both regular and Enhanced Grims in an area, take out the regular ones first. This will prevent the Enhanced Grims from being able to spit at you continuously, making them easier to deal with.\\n\\nRemember, patience is key when dealing with Enhanced Grims. Take your time, use your surroundings to your advantage, and don't be afraid to retreat if things get too overwhelming. With these tips in mind, you should be able to take down even the toughest of foes.\"}"
      ]
     },
     "execution_count": 46,
     "metadata": {},
     "output_type": "execute_result"
    }
   ],
   "source": [
    "\n",
    "chain = RetrievalQA.from_chain_type(\n",
    "    llm=llm, retriever=compression_retriever\n",
    ")\n",
    "chain({\"query\": \"How do I deal with Enhanced Grims?\"})"
   ]
  },
  {
   "cell_type": "code",
   "execution_count": 126,
   "id": "efdaed78",
   "metadata": {},
   "outputs": [],
   "source": [
    "query = \"How do I deal with Enhanced Grims?\"\n",
    "search_result = db.similarity_search(query)\n",
    "# pretty_print_docs(search_result)\n",
    "# search_result[0].page_content"
   ]
  },
  {
   "cell_type": "code",
   "execution_count": 32,
   "id": "1fd6f576-4412-479e-8efa-f06824d01bc8",
   "metadata": {},
   "outputs": [
    {
     "data": {
      "text/plain": [
       "'Why did the tomato turn red?\\nBecause it saw the salad dressing and didn\\'t want to be dressed!\\n(This is a play on the phrase \"seeing red\" which means feeling very angry.)'"
      ]
     },
     "execution_count": 32,
     "metadata": {},
     "output_type": "execute_result"
    }
   ],
   "source": [
    "\n",
    "\n",
    "llm.invoke(\"Tell me a joke\")"
   ]
  },
  {
   "cell_type": "code",
   "execution_count": null,
   "id": "69b230f7-0850-4fab-af43-f7da8c70e47f",
   "metadata": {},
   "outputs": [],
   "source": []
  }
 ],
 "metadata": {
  "kernelspec": {
   "display_name": "Python 3 (ipykernel)",
   "language": "python",
   "name": "python3"
  },
  "language_info": {
   "codemirror_mode": {
    "name": "ipython",
    "version": 3
   },
   "file_extension": ".py",
   "mimetype": "text/x-python",
   "name": "python",
   "nbconvert_exporter": "python",
   "pygments_lexer": "ipython3",
   "version": "3.11.7"
  }
 },
 "nbformat": 4,
 "nbformat_minor": 5
}
