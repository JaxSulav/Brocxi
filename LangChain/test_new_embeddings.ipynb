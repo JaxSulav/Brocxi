{
 "cells": [
  {
   "cell_type": "code",
   "execution_count": 13,
   "id": "ace15b21-763e-432b-b741-a700a28af51d",
   "metadata": {},
   "outputs": [],
   "source": [
    "from langchain_community.document_loaders import DirectoryLoader\n",
    "from langchain_text_splitters import CharacterTextSplitter\n",
    "from langchain_text_splitters import RecursiveCharacterTextSplitter\n",
    "from langchain_text_splitters import TokenTextSplitter\n",
    "from langchain_cohere import CohereEmbeddings\n",
    "from langchain_openai import OpenAIEmbeddings\n",
    "from langchain.embeddings import CacheBackedEmbeddings\n",
    "from langchain.storage import LocalFileStore\n",
    "from langchain.document_loaders import TextLoader\n",
    "from langchain_community.vectorstores import FAISS\n",
    "import os\n",
    "from dotenv import load_dotenv\n",
    "from langchain.retrievers import ContextualCompressionRetriever\n",
    "from langchain.retrievers.document_compressors import LLMChainExtractor\n",
    "from langchain_openai import OpenAI\n",
    "from langchain.retrievers.contextual_compression import ContextualCompressionRetriever\n",
    "from langchain_cohere import CohereRerank\n",
    "from langchain_community.llms import Cohere\n",
    "from langchain.chains import RetrievalQA\n",
    "from langchain_community.llms import Ollama\n",
    "import json\n",
    "from langchain_community.embeddings import OllamaEmbeddings\n",
    "from langchain_community.embeddings import GPT4AllEmbeddings\n",
    "from langchain.chains import RetrievalQAWithSourcesChain\n",
    "from langchain.embeddings import HuggingFaceEmbeddings\n",
    "from transformers import AutoModel\n",
    "from langchain.retrievers.document_compressors import FlashrankRerank"
   ]
  },
  {
   "cell_type": "code",
   "execution_count": 14,
   "id": "786b854e",
   "metadata": {},
   "outputs": [],
   "source": [
    "\n",
    "load_dotenv()\n",
    "COHERE_API_KEY = os.getenv('COHERE_API_KEY')"
   ]
  },
  {
   "cell_type": "code",
   "execution_count": 15,
   "id": "d7cb3f6a",
   "metadata": {},
   "outputs": [],
   "source": [
    "def pretty_print_docs(docs):\n",
    "    print(\n",
    "        f\"\\n{'-' * 100}\\n\".join(\n",
    "            [f\"Document {i+1}:\\n\\n\" + d.page_content for i, d in enumerate(docs)]\n",
    "        )\n",
    "    )\n"
   ]
  },
  {
   "cell_type": "code",
   "execution_count": 16,
   "id": "206eae33",
   "metadata": {},
   "outputs": [
    {
     "name": "stderr",
     "output_type": "stream",
     "text": [
      "100%|██████████████████████████████████████████████████████████████████████████████████████████████████████████████████████████████████████████████████████| 2/2 [00:00<00:00, 1332.37it/s]\n"
     ]
    }
   ],
   "source": [
    "loader = DirectoryLoader('../data_test', glob=\"*.txt\", loader_cls=TextLoader, show_progress=True)\n",
    "docs = loader.load()\n",
    "# pretty_print_docs(docs)"
   ]
  },
  {
   "cell_type": "code",
   "execution_count": 17,
   "id": "2d6420c0",
   "metadata": {
    "scrolled": true
   },
   "outputs": [],
   "source": [
    "text_splitter = RecursiveCharacterTextSplitter.from_tiktoken_encoder(\n",
    "    chunk_size=256,\n",
    "    chunk_overlap=64,\n",
    ")\n",
    "chunked = text_splitter.split_documents(docs)\n",
    "# print(len(chunked))\n",
    "# pretty_print_docs(chunked)"
   ]
  },
  {
   "cell_type": "code",
   "execution_count": 18,
   "id": "a333bccf",
   "metadata": {},
   "outputs": [],
   "source": [
    "cache_store = LocalFileStore(\"./mxbai_cache/\")"
   ]
  },
  {
   "cell_type": "code",
   "execution_count": 19,
   "id": "f6c300ed",
   "metadata": {},
   "outputs": [],
   "source": [
    "\n",
    "model = AutoModel.from_pretrained('mixedbread-ai/mxbai-embed-large-v1', trust_remote_code=True) \n",
    "\n",
    "model_name = \"mixedbread-ai/mxbai-embed-large-v1\"\n",
    "model_kwargs = {'device': 'cpu'}\n",
    "embeddings_model = HuggingFaceEmbeddings(\n",
    "    model_name=model_name,\n",
    "    model_kwargs=model_kwargs,\n",
    ")"
   ]
  },
  {
   "cell_type": "code",
   "execution_count": 20,
   "id": "4a45dbe3",
   "metadata": {},
   "outputs": [
    {
     "data": {
      "text/plain": [
       "HuggingFaceEmbeddings(client=SentenceTransformer(\n",
       "  (0): Transformer({'max_seq_length': 512, 'do_lower_case': False}) with Transformer model: BertModel \n",
       "  (1): Pooling({'word_embedding_dimension': 1024, 'pooling_mode_cls_token': True, 'pooling_mode_mean_tokens': False, 'pooling_mode_max_tokens': False, 'pooling_mode_mean_sqrt_len_tokens': False, 'pooling_mode_weightedmean_tokens': False, 'pooling_mode_lasttoken': False, 'include_prompt': True})\n",
       "), model_name='mixedbread-ai/mxbai-embed-large-v1', cache_folder=None, model_kwargs={'device': 'cpu'}, encode_kwargs={}, multi_process=False, show_progress=False)"
      ]
     },
     "execution_count": 20,
     "metadata": {},
     "output_type": "execute_result"
    }
   ],
   "source": [
    "embeddings_model"
   ]
  },
  {
   "cell_type": "code",
   "execution_count": 21,
   "id": "8d610fc2",
   "metadata": {},
   "outputs": [],
   "source": [
    "# from sentence_transformers import SentenceTransformer\n",
    "\n",
    "# model = SentenceTransformer(\"mixedbread-ai/mxbai-embed-large-v1\")"
   ]
  },
  {
   "cell_type": "code",
   "execution_count": 22,
   "id": "e970af96",
   "metadata": {},
   "outputs": [],
   "source": [
    "cached_embedder = CacheBackedEmbeddings.from_bytes_store(\n",
    "    embeddings_model, cache_store, namespace=\"mixedbread-ai/mxbai-embed-large-v1\")"
   ]
  },
  {
   "cell_type": "code",
   "execution_count": 23,
   "id": "e3aea0e2",
   "metadata": {},
   "outputs": [
    {
     "name": "stdout",
     "output_type": "stream",
     "text": [
      "CPU times: user 1min 23s, sys: 44 s, total: 2min 7s\n",
      "Wall time: 26.4 s\n"
     ]
    }
   ],
   "source": [
    "%%time\n",
    "db = FAISS.from_documents(chunked, cached_embedder)"
   ]
  },
  {
   "cell_type": "code",
   "execution_count": 24,
   "id": "721da3e7",
   "metadata": {},
   "outputs": [],
   "source": [
    "llm = Ollama(model=\"llama3\", temperature=0)\n",
    "query = \"How do I defeat Dreki?\""
   ]
  },
  {
   "cell_type": "code",
   "execution_count": 25,
   "id": "71548356",
   "metadata": {
    "scrolled": true
   },
   "outputs": [
    {
     "name": "stdout",
     "output_type": "stream",
     "text": [
      "Document 1:\n",
      "\n",
      "As you start to deplete the Dreki’s health (approximately two bars), it’ll introduce a slightly new attack into its arsenal that sees the creature leaping from afar, straight into a chomp attack. This attack is indicated by a yellow circle that will appear before it launches the attack.\n",
      "Don’t be afraid to use your Resurrection Stone if you have one. There’s no checkpoint throughout this fight, so if you happen to die again before the fight is over, you’ll respawn with your stone.\n",
      "Once the Dreki reaches half health, it’ll introduce another new attack to the battle, where it’ll launch an unlockable (red) attack that sees it rearing up into the air, as it begins to charge an electrical AoE attack. If you’re within the electrical circle after it finishes charging, you’ll be dealt damage and temporarily stunned, unable to move or block incoming attacks.\n",
      "Higher Difficulty Tip : While the Dreki is charging up its electric attack, use that brief moment as a chance to charge either the Leviathan Axe or the Blades of Chaos to do extra, more impactful damage.\n",
      "----------------------------------------------------------------------------------------------------\n",
      "Document 2:\n",
      "\n",
      "Straight out of the gate, the Dreki will spit a ball of saliva toward you – you’ll be dealt damage if you do not move in time. And while it’s arguably easier to just dodge this attack, it’s also possible to block it with your shield, or even parry it back into the creature if you’re using the Dauntless Shield, dealing damage and temporarily stunning it.\n",
      "Keep in mind, though, to parry the attack, you will need to be very precise with your timing, as it’ll only work if you block the attack just before it hits you. Once the Dreki is stunned, we recommend rushing the creature and unleashing as much heavy damage as possible before the stun effect runs out. This includes using your Runic Attack. Using the Runic Attack early in a fight is generally recommended so you can get the cooldown timer going as soon as possible.\n",
      "Fortunately, the Dreki does not have any unblockable attacks until it reaches half health, so technically speaking, every attack the Dreki throws your way can be blocked; however, this isn’t necessarily very efficient as it makes it quite a bit more challenging to deal damage.\n",
      "----------------------------------------------------------------------------------------------------\n",
      "Document 3:\n",
      "\n",
      "Higher Difficulty Tip : While the Dreki is charging up its electric attack, use that brief moment as a chance to charge either the Leviathan Axe or the Blades of Chaos to do extra, more impactful damage.\n",
      "If you happen to escape the attack, just be sure you stay clear of the electrified spots on the ground; otherwise, you’ll also succumb to being electrified – you’ll need to mash circle to escape the hold of the electricity.\n",
      "----------------------------------------------------------------------------------------------------\n",
      "Document 4:\n",
      "\n",
      "Fortunately, the Dreki does not have any unblockable attacks until it reaches half health, so technically speaking, every attack the Dreki throws your way can be blocked; however, this isn’t necessarily very efficient as it makes it quite a bit more challenging to deal damage.\n",
      "Need some health? Try looking beside the crates that are found along the outskirts of the area.\n"
     ]
    }
   ],
   "source": [
    "retriever = db.as_retriever()\n",
    "docs = retriever.get_relevant_documents(query)\n",
    "pretty_print_docs(docs)"
   ]
  },
  {
   "cell_type": "code",
   "execution_count": 26,
   "id": "1dc5350d",
   "metadata": {},
   "outputs": [
    {
     "name": "stdout",
     "output_type": "stream",
     "text": [
      "Dreki, the pesky dragon from the world of Skyrim!\n",
      "\n",
      "To defeat Dreki, you'll need to be prepared for a challenging fight. Here are some tips to help you emerge victorious:\n",
      "\n",
      "1. **Choose the right equipment**: Make sure you're wearing armor that can withstand fire and has a decent amount of health points. You may also want to consider equipping a shield with a high block value.\n",
      "2. **Use your surroundings**: Dreki is a flying dragon, so try to use the environment to your advantage. Look for areas where you can trap him or limit his movement, such as narrow corridors or small caves.\n",
      "3. **Keep moving**: Don't stay in one spot for too long, as Dreki's fire breath can be devastating. Keep moving and use your agility to dodge his attacks.\n",
      "4. **Use your abilities wisely**: As a Dragonborn, you have access to various shouts and abilities that can help you take down Dreki. Use your elemental attacks (e.g., ice or fire) to chip away at his health, and consider using your shout abilities to stun or disorient him.\n",
      "5. **Focus on his weak spots**: Dreki has a few weak points that you can target:\n",
      "\t* His wings: If you can manage to hit his wings, you'll temporarily disable his flight capabilities.\n",
      "\t* His neck: A well-placed attack on his neck can deal significant damage and potentially knock him out of the air.\n",
      "6. **Use potions and poisons**: Consider using potions or poisons that provide fire resistance or increase your damage output against dragons.\n",
      "7. **Stay patient and persistent**: Defeating Dreki will likely take some time and effort. Don't get discouraged if you don't succeed at first – keep trying, and you'll eventually emerge victorious.\n",
      "\n",
      "Remember to always keep an eye on your surroundings and be prepared for a challenging fight. With the right strategy and preparation, you should be able to defeat Dreki and continue your journey in Skyrim!\n",
      "CPU times: user 242 ms, sys: 211 ms, total: 454 ms\n",
      "Wall time: 24.4 s\n"
     ]
    }
   ],
   "source": [
    "%%time\n",
    "print(llm.invoke(query))"
   ]
  },
  {
   "cell_type": "code",
   "execution_count": 27,
   "id": "583b0921",
   "metadata": {
    "scrolled": true
   },
   "outputs": [
    {
     "name": "stdout",
     "output_type": "stream",
     "text": [
      "Document 1:\n",
      "\n",
      "Higher Difficulty Tip : While the Dreki is charging up its electric attack, use that brief moment as a chance to charge either the Leviathan Axe or the Blades of Chaos to do extra, more impactful damage.\n",
      "If you happen to escape the attack, just be sure you stay clear of the electrified spots on the ground; otherwise, you’ll also succumb to being electrified – you’ll need to mash circle to escape the hold of the electricity.\n",
      "----------------------------------------------------------------------------------------------------\n",
      "Document 2:\n",
      "\n",
      "Fortunately, the Dreki does not have any unblockable attacks until it reaches half health, so technically speaking, every attack the Dreki throws your way can be blocked; however, this isn’t necessarily very efficient as it makes it quite a bit more challenging to deal damage.\n",
      "Need some health? Try looking beside the crates that are found along the outskirts of the area.\n",
      "----------------------------------------------------------------------------------------------------\n",
      "Document 3:\n",
      "\n",
      "Straight out of the gate, the Dreki will spit a ball of saliva toward you – you’ll be dealt damage if you do not move in time. And while it’s arguably easier to just dodge this attack, it’s also possible to block it with your shield, or even parry it back into the creature if you’re using the Dauntless Shield, dealing damage and temporarily stunning it.\n",
      "Keep in mind, though, to parry the attack, you will need to be very precise with your timing, as it’ll only work if you block the attack just before it hits you. Once the Dreki is stunned, we recommend rushing the creature and unleashing as much heavy damage as possible before the stun effect runs out. This includes using your Runic Attack. Using the Runic Attack early in a fight is generally recommended so you can get the cooldown timer going as soon as possible.\n",
      "Fortunately, the Dreki does not have any unblockable attacks until it reaches half health, so technically speaking, every attack the Dreki throws your way can be blocked; however, this isn’t necessarily very efficient as it makes it quite a bit more challenging to deal damage.\n",
      "CPU times: user 4.56 s, sys: 3.21 s, total: 7.77 s\n",
      "Wall time: 2.28 s\n"
     ]
    }
   ],
   "source": [
    "%%time\n",
    "compressor = FlashrankRerank()\n",
    "compression_retriever = ContextualCompressionRetriever(\n",
    "    base_compressor=compressor, base_retriever=retriever\n",
    ")\n",
    "\n",
    "compressed_docs = compression_retriever.get_relevant_documents(query)\n",
    "pretty_print_docs(compressed_docs)"
   ]
  },
  {
   "cell_type": "code",
   "execution_count": 28,
   "id": "b2a34c97",
   "metadata": {},
   "outputs": [],
   "source": [
    "chain = RetrievalQA.from_chain_type(\n",
    "    llm=llm, retriever=compression_retriever\n",
    ")"
   ]
  },
  {
   "cell_type": "code",
   "execution_count": 29,
   "id": "0618ace6",
   "metadata": {},
   "outputs": [
    {
     "name": "stderr",
     "output_type": "stream",
     "text": [
      "/Users/jaxxsulav/Projects/LLM/Andromeda1/LangChain/env/lib/python3.11/site-packages/langchain_core/_api/deprecation.py:119: LangChainDeprecationWarning: The method `Chain.__call__` was deprecated in langchain 0.1.0 and will be removed in 0.2.0. Use invoke instead.\n",
      "  warn_deprecated(\n"
     ]
    },
    {
     "name": "stdout",
     "output_type": "stream",
     "text": [
      "CPU times: user 2.52 s, sys: 591 ms, total: 3.11 s\n",
      "Wall time: 11.4 s\n"
     ]
    }
   ],
   "source": [
    "%%time\n",
    "c2 = chain({\"query\": query})"
   ]
  },
  {
   "cell_type": "code",
   "execution_count": 30,
   "id": "3efebe4c",
   "metadata": {},
   "outputs": [
    {
     "name": "stdout",
     "output_type": "stream",
     "text": [
      "According to the context, here's how you can defeat Dreki:\n",
      "\n",
      "1. While the Dreki is charging up its electric attack, use that brief moment to charge your Leviathan Axe or Blades of Chaos for extra damage.\n",
      "2. If you escape the attack, stay clear of electrified spots on the ground and mash circle to escape the hold of electricity.\n",
      "3. Once the Dreki reaches half health, it will start using unblockable attacks, so be prepared to dodge or parry them.\n",
      "4. To defeat Dreki, try to stun it by blocking or parrying its attack just before it hits you (use Dauntless Shield for a parry). This will give you an opportunity to deal heavy damage and use your Runic Attack.\n",
      "5. Unleash as much heavy damage as possible while the Dreki is stunned, including using your Runic Attack.\n",
      "\n",
      "Remember to keep an eye out for electrified spots on the ground and be prepared to dodge or block attacks when the Dreki reaches half health. Good luck!\n"
     ]
    }
   ],
   "source": [
    "print(c2[\"result\"])"
   ]
  },
  {
   "cell_type": "code",
   "execution_count": 31,
   "id": "cd6d2afe",
   "metadata": {},
   "outputs": [
    {
     "name": "stderr",
     "output_type": "stream",
     "text": [
      "/Users/jaxxsulav/Projects/LLM/Andromeda1/LangChain/env/lib/python3.11/site-packages/langchain_core/_api/deprecation.py:119: LangChainDeprecationWarning: The class `Cohere` was deprecated in LangChain 0.1.14 and will be removed in 0.2.0. An updated version of the class exists in the langchain-cohere package and should be used instead. To use it run `pip install -U langchain-cohere` and import as `from langchain_cohere import Cohere`.\n",
      "  warn_deprecated(\n"
     ]
    },
    {
     "name": "stdout",
     "output_type": "stream",
     "text": [
      "CPU times: user 3.21 s, sys: 1.54 s, total: 4.74 s\n",
      "Wall time: 17.1 s\n"
     ]
    }
   ],
   "source": [
    "%%time\n",
    "chain = RetrievalQA.from_chain_type(\n",
    "    llm=Cohere(temperature=0), retriever=compression_retriever, chain_type=\"refine\"\n",
    ")\n",
    "c3 = chain({\"query\": query})"
   ]
  },
  {
   "cell_type": "code",
   "execution_count": 32,
   "id": "7d5d6369",
   "metadata": {},
   "outputs": [
    {
     "name": "stdout",
     "output_type": "stream",
     "text": [
      " To defeat the Dreki, you need to avoid its electric attack by mashing the circle button to escape, then attacking it with your axe or blades. Be careful to avoid the electrified spots on the ground. You can also charge your axe or blades during the brief moment while Dreki is charging its electric attack to do extra damage. You may need to repeat this process multiple times to defeat Dreki. If you are using a shield, you can also parry the Dreki's saliva ball attack by blocking it just before it hits you, which will deal damage and temporarily stun the creature. However, it is not recommended to rely solely on blocking its attacks as this will make dealing damage inefficient. Additionally, you can replenish health from crates located outskirts of the area.\n"
     ]
    }
   ],
   "source": [
    "print(c3[\"result\"])"
   ]
  },
  {
   "cell_type": "code",
   "execution_count": 33,
   "id": "264293e6",
   "metadata": {},
   "outputs": [
    {
     "name": "stdout",
     "output_type": "stream",
     "text": [
      "CPU times: user 2.6 s, sys: 697 ms, total: 3.3 s\n",
      "Wall time: 25.3 s\n"
     ]
    }
   ],
   "source": [
    "%%time\n",
    "chain = RetrievalQA.from_chain_type(\n",
    "    llm=llm, retriever=compression_retriever, chain_type=\"refine\", \n",
    ")\n",
    "c4 = chain({\"query\": query})"
   ]
  },
  {
   "cell_type": "code",
   "execution_count": 34,
   "id": "b90f58c7",
   "metadata": {},
   "outputs": [
    {
     "name": "stdout",
     "output_type": "stream",
     "text": [
      "Based on the refined context, here's an updated answer:\n",
      "\n",
      "To defeat Dreki, follow these steps:\n",
      "\n",
      "1. **Initial Attack**: As soon as the fight starts, be prepared for Dreki's initial saliva attack. You can either dodge it or block it with your shield (or parry it back into the creature if you're using the Dauntless Shield). If you choose to block or parry, take advantage of the brief stun effect to deal some damage.\n",
      "2. **Runic Attack**: Once Dreki is stunned, rush in and unleash as much heavy damage as possible before the stun effect runs out. This includes using your Runic Attack early in the fight to get the cooldown timer going as soon as possible.\n",
      "3. **Blockable Attacks**: Until Dreki reaches half health, all its attacks are blockable. While it's technically possible to block every attack, keep in mind that this might make dealing damage more challenging. Instead, focus on taking advantage of the brief moments when Dreki is stunned or vulnerable to deal significant damage.\n",
      "4. **Health Management**: Don't forget to grab some health from the crates along the outskirts of the area if needed. This will help you stay healthy and focused throughout the fight.\n",
      "\n",
      "By following these steps and adapting to Dreki's attacks, you'll be well-equipped to take down this formidable foe!\n"
     ]
    }
   ],
   "source": [
    "print(c4[\"result\"])"
   ]
  },
  {
   "cell_type": "code",
   "execution_count": 35,
   "id": "49c6b96d-8c4b-4405-bc51-8403368a5365",
   "metadata": {},
   "outputs": [
    {
     "name": "stdout",
     "output_type": "stream",
     "text": [
      "CPU times: user 3.26 s, sys: 1.5 s, total: 4.76 s\n",
      "Wall time: 24.5 s\n"
     ]
    }
   ],
   "source": [
    "%%time\n",
    "chain = RetrievalQA.from_chain_type(\n",
    "    llm=llm, retriever=compression_retriever, chain_type=\"refine\", return_source_documents=True\n",
    ")\n",
    "c5 = chain({\"query\": query})"
   ]
  },
  {
   "cell_type": "code",
   "execution_count": 36,
   "id": "e93c193e",
   "metadata": {},
   "outputs": [
    {
     "name": "stdout",
     "output_type": "stream",
     "text": [
      "[Document(page_content='Higher Difficulty Tip : While the Dreki is charging up its electric attack, use that brief moment as a chance to charge either the Leviathan Axe or the Blades of Chaos to do extra, more impactful damage.\\nIf you happen to escape the attack, just be sure you stay clear of the electrified spots on the ground; otherwise, you’ll also succumb to being electrified – you’ll need to mash circle to escape the hold of the electricity.', metadata={'source': '../data_test/The Quest for Tyr.txt', 'relevance_score': 0.96820515}), Document(page_content='Fortunately, the Dreki does not have any unblockable attacks until it reaches half health, so technically speaking, every attack the Dreki throws your way can be blocked; however, this isn’t necessarily very efficient as it makes it quite a bit more challenging to deal damage.\\nNeed some health? Try looking beside the crates that are found along the outskirts of the area.', metadata={'source': '../data_test/The Quest for Tyr.txt', 'relevance_score': 0.95735055}), Document(page_content='Straight out of the gate, the Dreki will spit a ball of saliva toward you – you’ll be dealt damage if you do not move in time. And while it’s arguably easier to just dodge this attack, it’s also possible to block it with your shield, or even parry it back into the creature if you’re using the Dauntless Shield, dealing damage and temporarily stunning it.\\nKeep in mind, though, to parry the attack, you will need to be very precise with your timing, as it’ll only work if you block the attack just before it hits you. Once the Dreki is stunned, we recommend rushing the creature and unleashing as much heavy damage as possible before the stun effect runs out. This includes using your Runic Attack. Using the Runic Attack early in a fight is generally recommended so you can get the cooldown timer going as soon as possible.\\nFortunately, the Dreki does not have any unblockable attacks until it reaches half health, so technically speaking, every attack the Dreki throws your way can be blocked; however, this isn’t necessarily very efficient as it makes it quite a bit more challenging to deal damage.', metadata={'source': '../data_test/The Quest for Tyr.txt', 'relevance_score': 0.93670195})]\n"
     ]
    }
   ],
   "source": [
    "print(c5['source_documents'])"
   ]
  },
  {
   "cell_type": "code",
   "execution_count": 37,
   "id": "d998e21c",
   "metadata": {},
   "outputs": [
    {
     "name": "stdout",
     "output_type": "stream",
     "text": [
      "Based on the refined context, here's an updated answer:\n",
      "\n",
      "To defeat Dreki, follow these steps:\n",
      "\n",
      "1. **Initial Attack**: As soon as the fight starts, be prepared for Dreki's initial saliva attack. You can either dodge it or block it with your shield (or parry it back into the creature if you're using the Dauntless Shield). If you choose to block or parry, take advantage of the brief stun effect to deal some damage.\n",
      "2. **Runic Attack**: Once Dreki is stunned, rush in and unleash as much heavy damage as possible before the stun effect runs out. This includes using your Runic Attack early in the fight to get the cooldown timer going as soon as possible.\n",
      "3. **Blockable Attacks**: Until Dreki reaches half health, all its attacks are blockable. While it's technically possible to block every attack, keep in mind that this might make dealing damage more challenging. Instead, focus on taking advantage of the brief moments when Dreki is stunned or vulnerable to deal significant damage.\n",
      "4. **Health Management**: Don't forget to grab some health from the crates along the outskirts of the area if needed. This will help you stay healthy and focused throughout the fight.\n",
      "\n",
      "By following these steps and adapting to Dreki's attacks, you'll be well-equipped to take down this formidable foe!\n"
     ]
    }
   ],
   "source": [
    "print(c5[\"result\"])"
   ]
  },
  {
   "cell_type": "code",
   "execution_count": null,
   "id": "f211140b",
   "metadata": {},
   "outputs": [],
   "source": []
  }
 ],
 "metadata": {
  "kernelspec": {
   "display_name": "Python 3 (ipykernel)",
   "language": "python",
   "name": "python3"
  }
 },
 "nbformat": 4,
 "nbformat_minor": 5
}
