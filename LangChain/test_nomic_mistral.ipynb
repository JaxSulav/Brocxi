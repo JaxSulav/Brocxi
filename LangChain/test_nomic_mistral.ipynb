{
 "cells": [
  {
   "cell_type": "code",
   "execution_count": 2,
   "id": "ace15b21-763e-432b-b741-a700a28af51d",
   "metadata": {},
   "outputs": [],
   "source": [
    "from langchain_community.document_loaders import DirectoryLoader\n",
    "from langchain_text_splitters import CharacterTextSplitter\n",
    "from langchain_text_splitters import RecursiveCharacterTextSplitter\n",
    "from langchain_text_splitters import TokenTextSplitter\n",
    "from langchain_cohere import CohereEmbeddings\n",
    "from langchain_openai import OpenAIEmbeddings\n",
    "from langchain.embeddings import CacheBackedEmbeddings\n",
    "from langchain.storage import LocalFileStore\n",
    "from langchain.document_loaders import TextLoader\n",
    "from langchain_community.vectorstores import FAISS\n",
    "import os\n",
    "from dotenv import load_dotenv\n",
    "from langchain.retrievers import ContextualCompressionRetriever\n",
    "from langchain.retrievers.document_compressors import LLMChainExtractor\n",
    "from langchain_openai import OpenAI\n",
    "from langchain.retrievers.contextual_compression import ContextualCompressionRetriever\n",
    "from langchain_cohere import CohereRerank\n",
    "from langchain_community.llms import Cohere\n",
    "from langchain.chains import RetrievalQA\n",
    "from langchain_community.llms import Ollama\n",
    "import json\n",
    "from langchain_community.embeddings import OllamaEmbeddings\n",
    "from langchain_community.embeddings import GPT4AllEmbeddings\n",
    "from langchain.chains import RetrievalQAWithSourcesChain\n",
    "\n"
   ]
  },
  {
   "cell_type": "code",
   "execution_count": 3,
   "id": "786b854e",
   "metadata": {},
   "outputs": [],
   "source": [
    "\n",
    "load_dotenv()\n",
    "COHERE_API_KEY = os.getenv('COHERE_API_KEY')"
   ]
  },
  {
   "cell_type": "code",
   "execution_count": 4,
   "id": "d7cb3f6a",
   "metadata": {},
   "outputs": [],
   "source": [
    "def pretty_print_docs(docs):\n",
    "    print(\n",
    "        f\"\\n{'-' * 100}\\n\".join(\n",
    "            [f\"Document {i+1}:\\n\\n\" + d.page_content for i, d in enumerate(docs)]\n",
    "        )\n",
    "    )\n",
    "\n",
    "cache_store = LocalFileStore(\"./cache/\")"
   ]
  },
  {
   "cell_type": "code",
   "execution_count": 5,
   "id": "206eae33",
   "metadata": {},
   "outputs": [
    {
     "name": "stderr",
     "output_type": "stream",
     "text": [
      "100%|██████████████████████████████████████████████████████████████████████████████████████████████████████████████████████████████████████████████████████| 2/2 [00:00<00:00, 1418.67it/s]\n"
     ]
    }
   ],
   "source": [
    "loader = DirectoryLoader('../data', glob=\"*.txt\", loader_cls=TextLoader, show_progress=True)\n",
    "docs = loader.load()\n",
    "# pretty_print_docs(docs)"
   ]
  },
  {
   "cell_type": "code",
   "execution_count": 6,
   "id": "2d6420c0",
   "metadata": {
    "scrolled": true
   },
   "outputs": [],
   "source": [
    "text_splitter = RecursiveCharacterTextSplitter.from_tiktoken_encoder(\n",
    "    chunk_size=128,\n",
    "    chunk_overlap=30,\n",
    ")\n",
    "chunked = text_splitter.split_documents(docs)\n",
    "# print(len(chunked))\n",
    "# pretty_print_docs(chunked)"
   ]
  },
  {
   "cell_type": "code",
   "execution_count": 7,
   "id": "a333bccf",
   "metadata": {},
   "outputs": [],
   "source": [
    "cache_store = LocalFileStore(\"./nomic_cache/\")"
   ]
  },
  {
   "cell_type": "code",
   "execution_count": 8,
   "id": "85f350fc",
   "metadata": {},
   "outputs": [],
   "source": [
    "embeddings_model = OllamaEmbeddings(\n",
    "    model=\"nomic-embed-text\",\n",
    ")"
   ]
  },
  {
   "cell_type": "code",
   "execution_count": 9,
   "id": "e970af96",
   "metadata": {},
   "outputs": [],
   "source": [
    "cached_embedder = CacheBackedEmbeddings.from_bytes_store(\n",
    "    embeddings_model, cache_store, namespace=embeddings_model.model)"
   ]
  },
  {
   "cell_type": "code",
   "execution_count": 10,
   "id": "e3aea0e2",
   "metadata": {},
   "outputs": [
    {
     "name": "stdout",
     "output_type": "stream",
     "text": [
      "CPU times: user 1.07 s, sys: 308 ms, total: 1.38 s\n",
      "Wall time: 9.78 s\n"
     ]
    }
   ],
   "source": [
    "%%time\n",
    "db = FAISS.from_documents(chunked, cached_embedder)"
   ]
  },
  {
   "cell_type": "code",
   "execution_count": 11,
   "id": "721da3e7",
   "metadata": {},
   "outputs": [],
   "source": [
    "llm = Ollama(model=\"mistral\", temperature=0)\n",
    "query = \"How do I defeat Dreki?\""
   ]
  },
  {
   "cell_type": "code",
   "execution_count": 12,
   "id": "71548356",
   "metadata": {
    "scrolled": true
   },
   "outputs": [
    {
     "name": "stdout",
     "output_type": "stream",
     "text": [
      "Document 1:\n",
      "\n",
      "Once you have managed to deplete the Dreki’s health bar, press R3 when prompted to finally defeat the creature with the help of Atreus. Defeating the Dreki will reward you with a Chaos Flame, +4 Dragon Tooths, and a Light Runic Attack (Flames of Anguish).\n",
      "----------------------------------------------------------------------------------------------------\n",
      "Document 2:\n",
      "\n",
      "Straight out of the gate, the Dreki will spit a ball of saliva toward you – you’ll be dealt damage if you do not move in time. And while it’s arguably easier to just dodge this attack, it’s also possible to block it with your shield, or even parry it back into the creature if you’re using the Dauntless Shield, dealing damage and temporarily stunning it.\n",
      "----------------------------------------------------------------------------------------------------\n",
      "Document 3:\n",
      "\n",
      "Once collected, follow Atreus north through a small hole that’s found in the rock wall, where you’ll discover a fallen Dreki.\n",
      "\n",
      "Defeat Dreki\n",
      "While inspecting the Dreki, a larger Dreki will appear and charge toward both Atreus and Kratos. The large crocodile-like creature will consist of five sectioned health bars, so you’ll need to deal quite a bit of damage to defeat the monster.\n",
      "----------------------------------------------------------------------------------------------------\n",
      "Document 4:\n",
      "\n",
      "Along with spitting saliva, the Dreki will also perform two major melee attacks that deal significant damage should you not block them. The first melee attack will see the Dreki jumping toward you, and landing several meters in front of you. The Dreki will then quickly turn and swipe its large tail in your direction - you can either block this attack with your shield or simply dodge out of the way.\n"
     ]
    }
   ],
   "source": [
    "retriever = db.as_retriever()\n",
    "docs = retriever.get_relevant_documents(query)\n",
    "pretty_print_docs(docs)"
   ]
  },
  {
   "cell_type": "code",
   "execution_count": 13,
   "id": "1dc5350d",
   "metadata": {},
   "outputs": [
    {
     "name": "stdout",
     "output_type": "stream",
     "text": [
      " Dreki is a dragon boss found in the Elder Scrolls V: Skyrim. Defeating Dreki requires preparation, strategy, and knowledge of its strengths and weaknesses. Here are some steps to help you defeat Dreki:\n",
      "\n",
      "1. Preparation:\n",
      "   - Ensure your character is well-equipped with appropriate armor, weapons, and potions.\n",
      "   - Make sure you have a good selection of spells if you're using magic.\n",
      "   - Save the game before attempting to fight Dreki.\n",
      "\n",
      "2. Location:\n",
      "   - Find Dreki's lair in the northern part of Skyrim, near the Throat of the World.\n",
      "   - Approach the lair cautiously, as there may be dragons guarding the entrance.\n",
      "\n",
      "3. Strategy:\n",
      "   - Use ranged attacks or spells to deal damage from a safe distance.\n",
      "   - If you're using melee, try to avoid getting too close to Dreki's breath attack.\n",
      "   - Focus on damaging Dreki's weak spots: its wings and head.\n",
      "   - Use potions and spells to heal yourself during the fight.\n",
      "\n",
      "4. Tactics:\n",
      "   - If you have a follower, consider bringing them along for additional support.\n",
      "   - Use the environment to your advantage, such as terrain or objects in Dreki's lair.\n",
      "   - Try to keep Dreki airborne as much as possible to limit its ability to use its ground attacks.\n",
      "\n",
      "5. Patience and Perseverance:\n",
      "   - Defeating Dreki may take several attempts, so be patient and learn from each encounter.\n",
      "   - Keep practicing your strategy and adjusting as needed.\n",
      "\n",
      "Remember that every playthrough is unique, so these steps might not guarantee a victory in your game. Good luck, and happy adventuring!\n",
      "CPU times: user 106 ms, sys: 40.1 ms, total: 146 ms\n",
      "Wall time: 22.2 s\n"
     ]
    }
   ],
   "source": [
    "%%time\n",
    "print(llm.invoke(query))"
   ]
  },
  {
   "cell_type": "code",
   "execution_count": 14,
   "id": "583b0921",
   "metadata": {
    "scrolled": true
   },
   "outputs": [
    {
     "name": "stdout",
     "output_type": "stream",
     "text": [
      "Document 1:\n",
      "\n",
      "Once collected, follow Atreus north through a small hole that’s found in the rock wall, where you’ll discover a fallen Dreki.\n",
      "\n",
      "Defeat Dreki\n",
      "While inspecting the Dreki, a larger Dreki will appear and charge toward both Atreus and Kratos. The large crocodile-like creature will consist of five sectioned health bars, so you’ll need to deal quite a bit of damage to defeat the monster.\n",
      "----------------------------------------------------------------------------------------------------\n",
      "Document 2:\n",
      "\n",
      "Once you have managed to deplete the Dreki’s health bar, press R3 when prompted to finally defeat the creature with the help of Atreus. Defeating the Dreki will reward you with a Chaos Flame, +4 Dragon Tooths, and a Light Runic Attack (Flames of Anguish).\n",
      "----------------------------------------------------------------------------------------------------\n",
      "Document 3:\n",
      "\n",
      "Straight out of the gate, the Dreki will spit a ball of saliva toward you – you’ll be dealt damage if you do not move in time. And while it’s arguably easier to just dodge this attack, it’s also possible to block it with your shield, or even parry it back into the creature if you’re using the Dauntless Shield, dealing damage and temporarily stunning it.\n"
     ]
    }
   ],
   "source": [
    "compressor = CohereRerank()\n",
    "compression_retriever = ContextualCompressionRetriever(\n",
    "    base_compressor=compressor, base_retriever=retriever\n",
    ")\n",
    "\n",
    "compressed_docs = compression_retriever.get_relevant_documents(query)\n",
    "pretty_print_docs(compressed_docs)"
   ]
  },
  {
   "cell_type": "code",
   "execution_count": 15,
   "id": "b2a34c97",
   "metadata": {},
   "outputs": [
    {
     "name": "stdout",
     "output_type": "stream",
     "text": [
      "CPU times: user 712 µs, sys: 972 µs, total: 1.68 ms\n",
      "Wall time: 1.98 ms\n"
     ]
    }
   ],
   "source": [
    "%%time\n",
    "chain = RetrievalQA.from_chain_type(\n",
    "    llm=llm, retriever=compression_retriever\n",
    ")\n"
   ]
  },
  {
   "cell_type": "code",
   "execution_count": 16,
   "id": "0618ace6",
   "metadata": {},
   "outputs": [
    {
     "name": "stderr",
     "output_type": "stream",
     "text": [
      "/Users/jaxxsulav/Projects/LLM/Andromeda1/LangChain/env/lib/python3.11/site-packages/langchain_core/_api/deprecation.py:117: LangChainDeprecationWarning: The function `__call__` was deprecated in LangChain 0.1.0 and will be removed in 0.2.0. Use invoke instead.\n",
      "  warn_deprecated(\n"
     ]
    },
    {
     "name": "stdout",
     "output_type": "stream",
     "text": [
      "CPU times: user 53.3 ms, sys: 41.6 ms, total: 94.9 ms\n",
      "Wall time: 6.09 s\n"
     ]
    }
   ],
   "source": [
    "%%time\n",
    "c2 = chain({\"query\": query})"
   ]
  },
  {
   "cell_type": "code",
   "execution_count": 17,
   "id": "3efebe4c",
   "metadata": {},
   "outputs": [
    {
     "name": "stdout",
     "output_type": "stream",
     "text": [
      " To defeat Dreki in God of War, you need to deplete its five health bars by dealing significant damage. When prompted, press R3 to help Atreus finish off the creature. During the battle, be aware that Dreki will spit a ball of saliva at you, which can be dodged or blocked with your shield. If you're using the Dauntless Shield, you can also parry it back and deal damage to the creature.\n"
     ]
    }
   ],
   "source": [
    "print(c2[\"result\"])"
   ]
  },
  {
   "cell_type": "code",
   "execution_count": 18,
   "id": "cd6d2afe",
   "metadata": {},
   "outputs": [
    {
     "name": "stderr",
     "output_type": "stream",
     "text": [
      "/Users/jaxxsulav/Projects/LLM/Andromeda1/LangChain/env/lib/python3.11/site-packages/langchain_core/_api/deprecation.py:117: LangChainDeprecationWarning: The class `langchain_community.llms.cohere.Cohere` was deprecated in langchain-community 0.1.14 and will be removed in 0.2.0. An updated version of the class exists in the langchain-cohere package and should be used instead. To use it run `pip install -U langchain-cohere` and import as `from langchain_cohere import Cohere`.\n",
      "  warn_deprecated(\n"
     ]
    },
    {
     "name": "stdout",
     "output_type": "stream",
     "text": [
      "CPU times: user 59.7 ms, sys: 7.38 ms, total: 67.1 ms\n",
      "Wall time: 8.92 s\n"
     ]
    }
   ],
   "source": [
    "%%time\n",
    "chain = RetrievalQA.from_chain_type(\n",
    "    llm=Cohere(temperature=0), retriever=compression_retriever, chain_type=\"refine\"\n",
    ")\n",
    "c3 = chain({\"query\": query})"
   ]
  },
  {
   "cell_type": "code",
   "execution_count": 19,
   "id": "7d5d6369",
   "metadata": {},
   "outputs": [
    {
     "name": "stdout",
     "output_type": "stream",
     "text": [
      " To defeat Dreki you need to deal a lot of damage to different parts of its body while avoiding its attacks. Dreki will spit a ball of saliva toward you – you’ll be dealt damage if you do not move in time, but it is also possible to block it with your shield, or even parry it back into the creature if you’re using the Dauntless Shield to deal damage and temporarily stun it. Once its health bar is depleted you need to press R3 when prompted in order to finally defeat it with Atreus' help. Beating Dreki will reward you with various items and a new runic attack. \n"
     ]
    }
   ],
   "source": [
    "print(c3[\"result\"])"
   ]
  },
  {
   "cell_type": "code",
   "execution_count": 20,
   "id": "264293e6",
   "metadata": {},
   "outputs": [
    {
     "name": "stdout",
     "output_type": "stream",
     "text": [
      "CPU times: user 169 ms, sys: 73.6 ms, total: 242 ms\n",
      "Wall time: 22.7 s\n"
     ]
    }
   ],
   "source": [
    "%%time\n",
    "chain = RetrievalQA.from_chain_type(\n",
    "    llm=llm, retriever=compression_retriever, chain_type=\"refine\"\n",
    ")\n",
    "c4 = chain({\"query\": query})"
   ]
  },
  {
   "cell_type": "code",
   "execution_count": 21,
   "id": "b90f58c7",
   "metadata": {},
   "outputs": [
    {
     "name": "stdout",
     "output_type": "stream",
     "text": [
      " To defeat Dreki as described in the context information, follow Atreus north through a small hole in the rock wall where you'll find a fallen Dreki. When inspecting the Dreki, a larger Dreki will emerge and charge towards both Atreus and Kratos. This larger Dreki consists of five sectioned health bars, so to defeat it, you'll need to deal significant damage to the creature multiple times using your available weapons and abilities.\n",
      "\n",
      "When the Dreki spits a ball of saliva at you, you have several options to respond: you can dodge it by moving out of the way, block it with your shield, or even parry it back into the creature using the Dauntless Shield, dealing damage and temporarily stunning it. This can be an effective strategy to gain an advantage during the battle.\n",
      "\n",
      "Once all of its health bars are depleted, press R3 when prompted to finally defeat the creature with the help of Atreus. Defeating the Dreki will reward you with a Chaos Flame, +4 Dragon Tooths, and a Light Runic Attack (Flames of Anguish).\n"
     ]
    }
   ],
   "source": [
    "print(c4[\"result\"])"
   ]
  },
  {
   "cell_type": "code",
   "execution_count": null,
   "id": "49c6b96d-8c4b-4405-bc51-8403368a5365",
   "metadata": {},
   "outputs": [],
   "source": []
  }
 ],
 "metadata": {
  "kernelspec": {
   "display_name": "Python 3 (ipykernel)",
   "language": "python",
   "name": "python3"
  },
  "language_info": {
   "codemirror_mode": {
    "name": "ipython",
    "version": 3
   },
   "file_extension": ".py",
   "mimetype": "text/x-python",
   "name": "python",
   "nbconvert_exporter": "python",
   "pygments_lexer": "ipython3",
   "version": "3.11.7"
  }
 },
 "nbformat": 4,
 "nbformat_minor": 5
}
