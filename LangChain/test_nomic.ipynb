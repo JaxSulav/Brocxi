{
 "cells": [
  {
   "cell_type": "code",
   "execution_count": 20,
   "id": "ace15b21-763e-432b-b741-a700a28af51d",
   "metadata": {},
   "outputs": [],
   "source": [
    "from langchain_community.document_loaders import DirectoryLoader\n",
    "from langchain_text_splitters import CharacterTextSplitter\n",
    "from langchain_text_splitters import RecursiveCharacterTextSplitter\n",
    "from langchain_text_splitters import TokenTextSplitter\n",
    "from langchain_cohere import CohereEmbeddings\n",
    "from langchain_openai import OpenAIEmbeddings\n",
    "from langchain.embeddings import CacheBackedEmbeddings\n",
    "from langchain.storage import LocalFileStore\n",
    "from langchain.document_loaders import TextLoader\n",
    "from langchain_community.vectorstores import FAISS\n",
    "import os\n",
    "from dotenv import load_dotenv\n",
    "from langchain.retrievers import ContextualCompressionRetriever\n",
    "from langchain.retrievers.document_compressors import LLMChainExtractor\n",
    "from langchain_openai import OpenAI\n",
    "from langchain.retrievers.contextual_compression import ContextualCompressionRetriever\n",
    "from langchain_cohere import CohereRerank\n",
    "from langchain_community.llms import Cohere\n",
    "from langchain.chains import RetrievalQA\n",
    "from langchain_community.llms import Ollama\n",
    "import json\n",
    "from langchain_community.embeddings import OllamaEmbeddings\n",
    "from langchain_community.embeddings import GPT4AllEmbeddings\n",
    "from langchain.chains import RetrievalQAWithSourcesChain\n",
    "\n"
   ]
  },
  {
   "cell_type": "code",
   "execution_count": 21,
   "id": "786b854e",
   "metadata": {},
   "outputs": [],
   "source": [
    "\n",
    "load_dotenv()\n",
    "COHERE_API_KEY = os.getenv('COHERE_API_KEY')"
   ]
  },
  {
   "cell_type": "code",
   "execution_count": 22,
   "id": "d7cb3f6a",
   "metadata": {},
   "outputs": [],
   "source": [
    "def pretty_print_docs(docs):\n",
    "    print(\n",
    "        f\"\\n{'-' * 100}\\n\".join(\n",
    "            [f\"Document {i+1}:\\n\\n\" + d.page_content for i, d in enumerate(docs)]\n",
    "        )\n",
    "    )\n",
    "\n",
    "cache_store = LocalFileStore(\"./cache/\")"
   ]
  },
  {
   "cell_type": "code",
   "execution_count": 23,
   "id": "206eae33",
   "metadata": {},
   "outputs": [
    {
     "name": "stderr",
     "output_type": "stream",
     "text": [
      "100%|███████████████████████████████████████████████████████████████████████████████████████████████████████████████████████████████████████████████████████| 2/2 [00:00<00:00, 725.91it/s]\n"
     ]
    }
   ],
   "source": [
    "loader = DirectoryLoader('../data', glob=\"*.txt\", loader_cls=TextLoader, show_progress=True)\n",
    "docs = loader.load()\n",
    "# pretty_print_docs(docs)"
   ]
  },
  {
   "cell_type": "code",
   "execution_count": 24,
   "id": "2d6420c0",
   "metadata": {
    "scrolled": true
   },
   "outputs": [],
   "source": [
    "text_splitter = RecursiveCharacterTextSplitter.from_tiktoken_encoder(\n",
    "    chunk_size=500,\n",
    "    chunk_overlap=50,\n",
    ")\n",
    "chunked = text_splitter.split_documents(docs)\n",
    "# print(len(chunked))\n",
    "# pretty_print_docs(chunked)"
   ]
  },
  {
   "cell_type": "code",
   "execution_count": 25,
   "id": "a333bccf",
   "metadata": {},
   "outputs": [],
   "source": [
    "cache_store = LocalFileStore(\"./nomic_cache/\")"
   ]
  },
  {
   "cell_type": "code",
   "execution_count": 26,
   "id": "85f350fc",
   "metadata": {},
   "outputs": [],
   "source": [
    "embeddings_model = OllamaEmbeddings(\n",
    "    model=\"nomic-embed-text\",\n",
    ")"
   ]
  },
  {
   "cell_type": "code",
   "execution_count": 27,
   "id": "e970af96",
   "metadata": {},
   "outputs": [],
   "source": [
    "cached_embedder = CacheBackedEmbeddings.from_bytes_store(\n",
    "    embeddings_model, cache_store, namespace=embeddings_model.model)"
   ]
  },
  {
   "cell_type": "code",
   "execution_count": 28,
   "id": "e3aea0e2",
   "metadata": {},
   "outputs": [
    {
     "name": "stdout",
     "output_type": "stream",
     "text": [
      "CPU times: user 228 ms, sys: 67.3 ms, total: 295 ms\n",
      "Wall time: 4.2 s\n"
     ]
    }
   ],
   "source": [
    "%%time\n",
    "db = FAISS.from_documents(chunked, cached_embedder)"
   ]
  },
  {
   "cell_type": "code",
   "execution_count": 72,
   "id": "721da3e7",
   "metadata": {},
   "outputs": [],
   "source": [
    "llm = Ollama(model=\"mistral\", temperature=0)\n",
    "query = \"How do I defeat Dreki?\""
   ]
  },
  {
   "cell_type": "code",
   "execution_count": 30,
   "id": "71548356",
   "metadata": {
    "scrolled": true
   },
   "outputs": [
    {
     "name": "stdout",
     "output_type": "stream",
     "text": [
      "Document 1:\n",
      "\n",
      "Straight out of the gate, the Dreki will spit a ball of saliva toward you – you’ll be dealt damage if you do not move in time. And while it’s arguably easier to just dodge this attack, it’s also possible to block it with your shield, or even parry it back into the creature if you’re using the Dauntless Shield, dealing damage and temporarily stunning it.\n",
      "Keep in mind, though, to parry the attack, you will need to be very precise with your timing, as it’ll only work if you block the attack just before it hits you. Once the Dreki is stunned, we recommend rushing the creature and unleashing as much heavy damage as possible before the stun effect runs out. This includes using your Runic Attack. Using the Runic Attack early in a fight is generally recommended so you can get the cooldown timer going as soon as possible.\n",
      "Fortunately, the Dreki does not have any unblockable attacks until it reaches half health, so technically speaking, every attack the Dreki throws your way can be blocked; however, this isn’t necessarily very efficient as it makes it quite a bit more challenging to deal damage.\n",
      "Need some health? Try looking beside the crates that are found along the outskirts of the area.\n",
      "\n",
      "Along with spitting saliva, the Dreki will also perform two major melee attacks that deal significant damage should you not block them. The first melee attack will see the Dreki jumping toward you, and landing several meters in front of you. The Dreki will then quickly turn and swipe its large tail in your direction - you can either block this attack with your shield or simply dodge out of the way.\n",
      "\n",
      "The next melee attack is nearly identical to start with, as the creature will leap toward you; however, this time, landing much closer, before performing a yellow (block break) attack in the form of a chomp. If you fail to dodge the attack, the Dreki will grab ahold of you, before slamming you to the ground.\n",
      "----------------------------------------------------------------------------------------------------\n",
      "Document 2:\n",
      "\n",
      "While it didn’t occur every time, we found that more often than not, blocking the Dreki’s chomp attack would trigger a yellow (block break) combination attack that would see the Dreki getting knocked back for a brief moment, only to quickly spit a ball of salvia toward you – you’ll need to act fast to avoid being dealt damage from this attack. Successfully countering the attack with a parry from the Dauntless Shield will see you tossing the ball of salvia back.\n",
      "\n",
      "As you start to deplete the Dreki’s health (approximately two bars), it’ll introduce a slightly new attack into its arsenal that sees the creature leaping from afar, straight into a chomp attack. This attack is indicated by a yellow circle that will appear before it launches the attack.\n",
      "Don’t be afraid to use your Resurrection Stone if you have one. There’s no checkpoint throughout this fight, so if you happen to die again before the fight is over, you’ll respawn with your stone.\n",
      "Once the Dreki reaches half health, it’ll introduce another new attack to the battle, where it’ll launch an unlockable (red) attack that sees it rearing up into the air, as it begins to charge an electrical AoE attack. If you’re within the electrical circle after it finishes charging, you’ll be dealt damage and temporarily stunned, unable to move or block incoming attacks.\n",
      "Higher Difficulty Tip : While the Dreki is charging up its electric attack, use that brief moment as a chance to charge either the Leviathan Axe or the Blades of Chaos to do extra, more impactful damage.\n",
      "If you happen to escape the attack, just be sure you stay clear of the electrified spots on the ground; otherwise, you’ll also succumb to being electrified – you’ll need to mash circle to escape the hold of the electricity.\n",
      "\n",
      "In turn, the Dreki’s saliva attack will be upgraded into an unblockable attack as it’ll now become electrified, leaving a nasty trail of electricity in its wake.\n",
      "----------------------------------------------------------------------------------------------------\n",
      "Document 3:\n",
      "\n",
      "In turn, the Dreki’s saliva attack will be upgraded into an unblockable attack as it’ll now become electrified, leaving a nasty trail of electricity in its wake.\n",
      "\n",
      "Due to these unblockable attacks, we found it was best to keep a distance during the second phase of the fight, as it was much easier to get caught off guard by the electricity attacks. Instead, we only approached within melee distance while the Dreki was temporarily stunned or knocked back, and only unleashing a few heavy melee attacks before retreating to a safe distance.\n",
      "\n",
      "Once you have managed to deplete the Dreki’s health bar, press R3 when prompted to finally defeat the creature with the help of Atreus. Defeating the Dreki will reward you with a Chaos Flame, +4 Dragon Tooths, and a Light Runic Attack (Flames of Anguish).\n",
      "After collecting all the loot in the area, continue west and squeeze through the gap in the wall. Before continuing to the main objective to the south, let’s take a quick detour and follow the path northwest, where you’ll find some collectibles, Hacksilver, and resources.\n",
      "\n",
      "To start, continue northwest until you reach a small abandoned campsite. To the left, you’ll find a Hacksilver pouch on the ground, beside a dead Cursed Grim.\n",
      "\n",
      "Once collected, climb the large ledge nearby, where you’ll find a Rune Read collectible just to the right of the large wooden gate that leads up to the mountain peak.\n",
      "The Forge - Lore 2 - The Forge\n",
      "----------------------------------------------------------------------------------------------------\n",
      "Document 4:\n",
      "\n",
      "After a short distance, you’ll come across a train cart blocking your path forward. Instead, take the path right, where you’ll have the opportunity to collect a nearby Artifact, and a Nornir Chest; however, you won’t be able to complete the Nornir Chest until you have unlocked some special equipment that’s obtained further into the story.\n",
      "Things Left Behind 3 - Bari’s Grenade Things Left Behind 3 - Bari’s Grenade This Artifact is located in the opening area of The Forge. From the train stop, head down the wooden walkway and then divert right into a rocky area with ledges. Climb up the left-hand ledge, then turn right to spot some wooden objects over the Artifact. Smash them and collect it!\n",
      "\n",
      "Once collected, follow Atreus north through a small hole that’s found in the rock wall, where you’ll discover a fallen Dreki.\n",
      "\n",
      "Defeat Dreki\n",
      "While inspecting the Dreki, a larger Dreki will appear and charge toward both Atreus and Kratos. The large crocodile-like creature will consist of five sectioned health bars, so you’ll need to deal quite a bit of damage to defeat the monster.\n"
     ]
    }
   ],
   "source": [
    "retriever = db.as_retriever()\n",
    "docs = retriever.get_relevant_documents(query)\n",
    "pretty_print_docs(docs)"
   ]
  },
  {
   "cell_type": "code",
   "execution_count": 31,
   "id": "1dc5350d",
   "metadata": {},
   "outputs": [
    {
     "name": "stdout",
     "output_type": "stream",
     "text": [
      "To defeat Dreki, the fire-breathing dragon in Elden Ring, you'll need to follow these steps:\n",
      "\n",
      "1. Reach Dragonburrow: To find Dreki, head to Dragonburrow, which is located northwest of Limgrave. It's a large cave with a campfire outside and a massive dragon skull at the entrance.\n",
      "\n",
      "2. Stealth: As you enter the cave, be cautious because Dreki will wake up if he spots you. To avoid being detected, try to sneak past him by sticking close to the wall and moving slowly.\n",
      "\n",
      "3. Avoid his attacks: When Dreki does spot you, move quickly to avoid his fire breath attack. He'll also swing his tail and smash the ground with it, so watch out for those as well.\n",
      "\n",
      "4. Chip away at his health: If you can get behind Dreki, you can deal some serious damage with your attacks. Keep hitting him until you start to chip away at his massive health bar.\n",
      "\n",
      "5. Break his wings: Eventually, you'll want to break one of Dreki's wings by dodging and weaving around his attacks while striking the wing repeatedly. This will make it easier for you to avoid his fire breath attack and deal more damage overall.\n",
      "\n",
      "6. Finish him off: Once both wings are broken, Dreki will become much slower and less aggressive. Keep hitting him until he's defeated. Be warned that he'll still be able to breathe fire and smash the ground with his tail, but he should be easier to avoid now that he can't fly.\n",
      "\n",
      "Remember to bring plenty of healing items because Dreki hits hard, and also consider bringing a companion like Melina or an NPC helper to make the fight a bit easier. Good luck!\n",
      "CPU times: user 83.5 ms, sys: 33.3 ms, total: 117 ms\n",
      "Wall time: 24.4 s\n"
     ]
    }
   ],
   "source": [
    "%%time\n",
    "print(llm.invoke(query))"
   ]
  },
  {
   "cell_type": "code",
   "execution_count": 32,
   "id": "e06f730d",
   "metadata": {
    "scrolled": true
   },
   "outputs": [],
   "source": [
    "compressor = LLMChainExtractor.from_llm(llm)\n",
    "compression_retriever = ContextualCompressionRetriever(\n",
    "    base_compressor=compressor, base_retriever=retriever\n",
    ")\n",
    "\n",
    "# compressed_docs = compression_retriever.get_relevant_documents(query)\n",
    "# pretty_print_docs(compressed_docs)"
   ]
  },
  {
   "cell_type": "code",
   "execution_count": 33,
   "id": "53fd00d5",
   "metadata": {
    "scrolled": true
   },
   "outputs": [],
   "source": [
    "chain = RetrievalQA.from_chain_type(\n",
    "    llm=llm, retriever=compression_retriever\n",
    ")"
   ]
  },
  {
   "cell_type": "code",
   "execution_count": 34,
   "id": "59b4af73",
   "metadata": {},
   "outputs": [
    {
     "name": "stdout",
     "output_type": "stream",
     "text": [
      "CPU times: user 1 µs, sys: 0 ns, total: 1 µs\n",
      "Wall time: 2.15 µs\n"
     ]
    }
   ],
   "source": [
    "%%time\n",
    "# c1 = chain({\"query\": query})"
   ]
  },
  {
   "cell_type": "code",
   "execution_count": 35,
   "id": "f3133fae",
   "metadata": {},
   "outputs": [],
   "source": [
    "# print(c1['result'])"
   ]
  },
  {
   "cell_type": "code",
   "execution_count": null,
   "id": "93140584",
   "metadata": {},
   "outputs": [],
   "source": []
  },
  {
   "cell_type": "code",
   "execution_count": 36,
   "id": "69235a72",
   "metadata": {},
   "outputs": [],
   "source": [
    "# print(c1[\"source_documents\"])"
   ]
  },
  {
   "cell_type": "code",
   "execution_count": 37,
   "id": "583b0921",
   "metadata": {
    "scrolled": true
   },
   "outputs": [
    {
     "name": "stdout",
     "output_type": "stream",
     "text": [
      "Document 1:\n",
      "\n",
      "In turn, the Dreki’s saliva attack will be upgraded into an unblockable attack as it’ll now become electrified, leaving a nasty trail of electricity in its wake.\n",
      "\n",
      "Due to these unblockable attacks, we found it was best to keep a distance during the second phase of the fight, as it was much easier to get caught off guard by the electricity attacks. Instead, we only approached within melee distance while the Dreki was temporarily stunned or knocked back, and only unleashing a few heavy melee attacks before retreating to a safe distance.\n",
      "\n",
      "Once you have managed to deplete the Dreki’s health bar, press R3 when prompted to finally defeat the creature with the help of Atreus. Defeating the Dreki will reward you with a Chaos Flame, +4 Dragon Tooths, and a Light Runic Attack (Flames of Anguish).\n",
      "After collecting all the loot in the area, continue west and squeeze through the gap in the wall. Before continuing to the main objective to the south, let’s take a quick detour and follow the path northwest, where you’ll find some collectibles, Hacksilver, and resources.\n",
      "\n",
      "To start, continue northwest until you reach a small abandoned campsite. To the left, you’ll find a Hacksilver pouch on the ground, beside a dead Cursed Grim.\n",
      "\n",
      "Once collected, climb the large ledge nearby, where you’ll find a Rune Read collectible just to the right of the large wooden gate that leads up to the mountain peak.\n",
      "The Forge - Lore 2 - The Forge\n",
      "----------------------------------------------------------------------------------------------------\n",
      "Document 2:\n",
      "\n",
      "After a short distance, you’ll come across a train cart blocking your path forward. Instead, take the path right, where you’ll have the opportunity to collect a nearby Artifact, and a Nornir Chest; however, you won’t be able to complete the Nornir Chest until you have unlocked some special equipment that’s obtained further into the story.\n",
      "Things Left Behind 3 - Bari’s Grenade Things Left Behind 3 - Bari’s Grenade This Artifact is located in the opening area of The Forge. From the train stop, head down the wooden walkway and then divert right into a rocky area with ledges. Climb up the left-hand ledge, then turn right to spot some wooden objects over the Artifact. Smash them and collect it!\n",
      "\n",
      "Once collected, follow Atreus north through a small hole that’s found in the rock wall, where you’ll discover a fallen Dreki.\n",
      "\n",
      "Defeat Dreki\n",
      "While inspecting the Dreki, a larger Dreki will appear and charge toward both Atreus and Kratos. The large crocodile-like creature will consist of five sectioned health bars, so you’ll need to deal quite a bit of damage to defeat the monster.\n",
      "----------------------------------------------------------------------------------------------------\n",
      "Document 3:\n",
      "\n",
      "Straight out of the gate, the Dreki will spit a ball of saliva toward you – you’ll be dealt damage if you do not move in time. And while it’s arguably easier to just dodge this attack, it’s also possible to block it with your shield, or even parry it back into the creature if you’re using the Dauntless Shield, dealing damage and temporarily stunning it.\n",
      "Keep in mind, though, to parry the attack, you will need to be very precise with your timing, as it’ll only work if you block the attack just before it hits you. Once the Dreki is stunned, we recommend rushing the creature and unleashing as much heavy damage as possible before the stun effect runs out. This includes using your Runic Attack. Using the Runic Attack early in a fight is generally recommended so you can get the cooldown timer going as soon as possible.\n",
      "Fortunately, the Dreki does not have any unblockable attacks until it reaches half health, so technically speaking, every attack the Dreki throws your way can be blocked; however, this isn’t necessarily very efficient as it makes it quite a bit more challenging to deal damage.\n",
      "Need some health? Try looking beside the crates that are found along the outskirts of the area.\n",
      "\n",
      "Along with spitting saliva, the Dreki will also perform two major melee attacks that deal significant damage should you not block them. The first melee attack will see the Dreki jumping toward you, and landing several meters in front of you. The Dreki will then quickly turn and swipe its large tail in your direction - you can either block this attack with your shield or simply dodge out of the way.\n",
      "\n",
      "The next melee attack is nearly identical to start with, as the creature will leap toward you; however, this time, landing much closer, before performing a yellow (block break) attack in the form of a chomp. If you fail to dodge the attack, the Dreki will grab ahold of you, before slamming you to the ground.\n"
     ]
    }
   ],
   "source": [
    "compressor = CohereRerank()\n",
    "compression_retriever = ContextualCompressionRetriever(\n",
    "    base_compressor=compressor, base_retriever=retriever\n",
    ")\n",
    "\n",
    "compressed_docs = compression_retriever.get_relevant_documents(query)\n",
    "pretty_print_docs(compressed_docs)"
   ]
  },
  {
   "cell_type": "code",
   "execution_count": 38,
   "id": "b2a34c97",
   "metadata": {},
   "outputs": [
    {
     "name": "stdout",
     "output_type": "stream",
     "text": [
      "CPU times: user 334 µs, sys: 14 µs, total: 348 µs\n",
      "Wall time: 349 µs\n"
     ]
    }
   ],
   "source": [
    "%%time\n",
    "chain = RetrievalQA.from_chain_type(\n",
    "    llm=llm, retriever=compression_retriever\n",
    ")\n"
   ]
  },
  {
   "cell_type": "code",
   "execution_count": 39,
   "id": "0618ace6",
   "metadata": {},
   "outputs": [
    {
     "name": "stdout",
     "output_type": "stream",
     "text": [
      "CPU times: user 60.6 ms, sys: 29.1 ms, total: 89.7 ms\n",
      "Wall time: 16.7 s\n"
     ]
    }
   ],
   "source": [
    "%%time\n",
    "c2 = chain({\"query\": query})"
   ]
  },
  {
   "cell_type": "code",
   "execution_count": 40,
   "id": "3efebe4c",
   "metadata": {},
   "outputs": [
    {
     "name": "stdout",
     "output_type": "stream",
     "text": [
      "During the fight with Dreki, it's best to keep your distance during the second phase due to its electrified saliva attack that becomes unblockable. Instead, approach within melee distance only while the Dreki is temporarily stunned or knocked back and unleash a few heavy melee attacks before retreating to a safe distance. The Dreki's initial saliva attack can be blocked with your shield or parried back into the creature if using the Dauntless Shield, but its melee attacks should still be avoided or blocked. Once it reaches half health, the Dreki will have unblockable attacks, making every attack potentially dangerous to block. To deal significant damage, rush the creature and unleash heavy attacks during its stun effect, including using your Runic Attack early in the fight. Remember to conserve your health by looking for resources beside crates in the area. With these strategies, you can defeat Dreki, earning a Chaos Flame, +4 Dragon Tooths, and a Light Runic Attack (Flames of Anguish) as rewards.\n"
     ]
    }
   ],
   "source": [
    "print(c2[\"result\"])"
   ]
  },
  {
   "cell_type": "code",
   "execution_count": 56,
   "id": "cd6d2afe",
   "metadata": {},
   "outputs": [
    {
     "name": "stderr",
     "output_type": "stream",
     "text": [
      "Retrying langchain_community.llms.cohere.completion_with_retry.<locals>._completion_with_retry in 4.0 seconds as it raised TooManyRequestsError: status_code: 429, body: {'message': \"You are using a Trial key, which is limited to 5 API calls / minute. You can continue to use the Trial key for free or upgrade to a Production key with higher rate limits at 'https://dashboard.cohere.com/api-keys'. Contact us on 'https://discord.gg/XW44jPfYJu' or email us at support@cohere.com with any questions\"}.\n"
     ]
    },
    {
     "name": "stdout",
     "output_type": "stream",
     "text": [
      "CPU times: user 65.3 ms, sys: 11.9 ms, total: 77.2 ms\n",
      "Wall time: 22.7 s\n"
     ]
    }
   ],
   "source": [
    "%%time\n",
    "chain = RetrievalQA.from_chain_type(\n",
    "    llm=Cohere(temperature=1), retriever=compression_retriever, chain_type=\"refine\"\n",
    ")\n",
    "c3 = chain({\"query\": query})"
   ]
  },
  {
   "cell_type": "code",
   "execution_count": 57,
   "id": "7d5d6369",
   "metadata": {},
   "outputs": [
    {
     "name": "stdout",
     "output_type": "stream",
     "text": [
      " To defeat the Dreki you must avoid its electrifies attack, by keeping your distance whilst also damaging the monster. The Dreki has five health bars, so you’ll need to deal quite a bit of damage to defeat the monster. Considering the context of the passage overall, barracks slashes and Atreus’s arrows are the most effective ways to damage the Dreki.\n",
      "\n",
      "You should also be aware that the Dreki will try to spit saliva at you, and although this can merely be dodged, it is also possible to block it with your shield, or even parry it back into the creature if you’re using the Dauntless Shield, dealing damage and temporarily stunning it. Whilst the Dreki is stunned, you should rush the creature and unleashes as much heavy damage as possible before the stun effect runs out. \n",
      "\n",
      "In addition to this saliva attack, the Dreki will also perform two major melee attacks that deal significant damage should you not block them. The first melee attack will see the Dreki jumping toward you, and landing several meters in front of you. The Dreki will then quickly turn and swipe its large tail in your direction - you can either block this attack with your shield or simply dodge out of the\n"
     ]
    }
   ],
   "source": [
    "print(c3[\"result\"])"
   ]
  },
  {
   "cell_type": "code",
   "execution_count": 75,
   "id": "264293e6",
   "metadata": {},
   "outputs": [
    {
     "name": "stdout",
     "output_type": "stream",
     "text": [
      "CPU times: user 59.9 ms, sys: 42 ms, total: 102 ms\n",
      "Wall time: 16.1 s\n"
     ]
    }
   ],
   "source": [
    "%%time\n",
    "chain = RetrievalQA.from_chain_type(\n",
    "    llm=llm, retriever=compression_retriever, chain_type=\"stuff\"\n",
    ")\n",
    "c4 = chain({\"query\": query})"
   ]
  },
  {
   "cell_type": "code",
   "execution_count": 76,
   "id": "b90f58c7",
   "metadata": {},
   "outputs": [
    {
     "name": "stdout",
     "output_type": "stream",
     "text": [
      " To defeat Dreki, you should keep your distance during the second phase of the fight due to its unblockable electrified saliva attacks. Approach only when the Dreki is temporarily stunned or knocked back, and unleash a few heavy melee attacks before retreating to a safe distance. When prompted, press R3 to finally defeat the creature with Atreus' help. Remember that the Dreki has five sectioned health bars, so dealing significant damage is necessary to defeat it. You can block or parry its saliva attack, but be precise with your timing for a successful parry. The Dreki does not have any unblockable attacks until it reaches half health. Additionally, you can collect resources and Hacksilver along the way as you follow the path northwest from The Forge.\n"
     ]
    }
   ],
   "source": [
    "print(c4[\"result\"])"
   ]
  },
  {
   "cell_type": "code",
   "execution_count": 45,
   "id": "4dc6efbb",
   "metadata": {},
   "outputs": [
    {
     "name": "stdout",
     "output_type": "stream",
     "text": [
      "To defeat Dreki, you should dodge its initial saliva spit if possible or block/parry it. In the second phase, keep a distance during the fight as its saliva attack has been upgraded into an unblockable electrified attack that leaves a nasty trail of electricity in its wake. Approach within melee distance only while the Dreki is temporarily stunned or knocked back and unleash a few heavy melee attacks before retreating to a safe distance due to these unblockable attacks being easier to get caught off guard by the electricity attacks. After depleting Dreki's health bar, press R3 when prompted to finally defeat the creature with the help of Atreus.\n",
      "\n",
      "To summarize, follow Atreus north through a small hole in the rock wall and prepare to battle a larger Dreki with five sectioned health bars. Parrying Dreki's initial saliva spit requires precise timing by blocking just before the attack hits, as its major melee attacks include a tail swipe that can be blocked or dodged, and a chomp after leaping close to you if you fail to dodge. You can also find health beside the crates along the outskirts of the area during the fight.\n"
     ]
    }
   ],
   "source": [
    "print(c3[\"result\"])"
   ]
  },
  {
   "cell_type": "code",
   "execution_count": null,
   "id": "49c6b96d-8c4b-4405-bc51-8403368a5365",
   "metadata": {},
   "outputs": [],
   "source": []
  }
 ],
 "metadata": {
  "kernelspec": {
   "display_name": "Python 3 (ipykernel)",
   "language": "python",
   "name": "python3"
  },
  "language_info": {
   "codemirror_mode": {
    "name": "ipython",
    "version": 3
   },
   "file_extension": ".py",
   "mimetype": "text/x-python",
   "name": "python",
   "nbconvert_exporter": "python",
   "pygments_lexer": "ipython3",
   "version": "3.11.7"
  }
 },
 "nbformat": 4,
 "nbformat_minor": 5
}
