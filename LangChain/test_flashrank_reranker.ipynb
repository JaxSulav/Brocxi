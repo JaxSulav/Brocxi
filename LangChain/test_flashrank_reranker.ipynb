{
 "cells": [
  {
   "cell_type": "code",
   "execution_count": 2,
   "id": "ace15b21-763e-432b-b741-a700a28af51d",
   "metadata": {},
   "outputs": [],
   "source": [
    "from langchain_community.document_loaders import DirectoryLoader\n",
    "from langchain_text_splitters import CharacterTextSplitter\n",
    "from langchain_text_splitters import RecursiveCharacterTextSplitter\n",
    "from langchain_text_splitters import TokenTextSplitter\n",
    "from langchain_cohere import CohereEmbeddings\n",
    "from langchain_openai import OpenAIEmbeddings\n",
    "from langchain.embeddings import CacheBackedEmbeddings\n",
    "from langchain.storage import LocalFileStore\n",
    "from langchain.document_loaders import TextLoader\n",
    "from langchain_community.vectorstores import FAISS\n",
    "import os\n",
    "from dotenv import load_dotenv\n",
    "from langchain.retrievers import ContextualCompressionRetriever\n",
    "from langchain.retrievers.document_compressors import LLMChainExtractor\n",
    "from langchain_openai import OpenAI\n",
    "from langchain.retrievers.contextual_compression import ContextualCompressionRetriever\n",
    "from langchain_cohere import CohereRerank\n",
    "from langchain_community.llms import Cohere\n",
    "from langchain.chains import RetrievalQA\n",
    "from langchain_community.llms import Ollama\n",
    "import json\n",
    "from langchain_community.embeddings import OllamaEmbeddings\n",
    "from langchain_community.embeddings import GPT4AllEmbeddings\n",
    "from langchain.chains import RetrievalQAWithSourcesChain\n",
    "from langchain.embeddings import HuggingFaceEmbeddings\n",
    "from transformers import AutoModel\n",
    "from langchain.retrievers.document_compressors import FlashrankRerank"
   ]
  },
  {
   "cell_type": "code",
   "execution_count": 3,
   "id": "786b854e",
   "metadata": {},
   "outputs": [],
   "source": [
    "\n",
    "load_dotenv()\n",
    "COHERE_API_KEY = os.getenv('COHERE_API_KEY')"
   ]
  },
  {
   "cell_type": "code",
   "execution_count": 4,
   "id": "d7cb3f6a",
   "metadata": {},
   "outputs": [],
   "source": [
    "def pretty_print_docs(docs):\n",
    "    print(\n",
    "        f\"\\n{'-' * 100}\\n\".join(\n",
    "            [f\"Document {i+1}:\\n\\n\" + d.page_content for i, d in enumerate(docs)]\n",
    "        )\n",
    "    )\n"
   ]
  },
  {
   "cell_type": "code",
   "execution_count": 5,
   "id": "206eae33",
   "metadata": {},
   "outputs": [
    {
     "name": "stderr",
     "output_type": "stream",
     "text": [
      "100%|███████████████████████████████████████████████████████████████████████████████████████████████████████████████████████████████████████████████████████| 2/2 [00:00<00:00, 936.86it/s]\n"
     ]
    }
   ],
   "source": [
    "loader = DirectoryLoader('../data', glob=\"*.txt\", loader_cls=TextLoader, show_progress=True)\n",
    "docs = loader.load()\n",
    "# pretty_print_docs(docs)"
   ]
  },
  {
   "cell_type": "code",
   "execution_count": 6,
   "id": "2d6420c0",
   "metadata": {
    "scrolled": true
   },
   "outputs": [],
   "source": [
    "text_splitter = RecursiveCharacterTextSplitter.from_tiktoken_encoder(\n",
    "    chunk_size=256,\n",
    "    chunk_overlap=64,\n",
    ")\n",
    "chunked = text_splitter.split_documents(docs)\n",
    "# print(len(chunked))\n",
    "# pretty_print_docs(chunked)"
   ]
  },
  {
   "cell_type": "code",
   "execution_count": null,
   "id": "a333bccf",
   "metadata": {},
   "outputs": [],
   "source": []
  },
  {
   "cell_type": "code",
   "execution_count": 7,
   "id": "f6c300ed",
   "metadata": {},
   "outputs": [],
   "source": [
    "\n",
    "model = AutoModel.from_pretrained('mixedbread-ai/mxbai-embed-large-v1', trust_remote_code=True) \n",
    "\n",
    "model_name = \"mixedbread-ai/mxbai-embed-large-v1\"\n",
    "model_kwargs = {'device': 'cpu'}\n",
    "embeddings_model = HuggingFaceEmbeddings(\n",
    "    model_name=model_name,\n",
    "    model_kwargs=model_kwargs,\n",
    ")"
   ]
  },
  {
   "cell_type": "code",
   "execution_count": 8,
   "id": "4a45dbe3",
   "metadata": {},
   "outputs": [
    {
     "data": {
      "text/plain": [
       "HuggingFaceEmbeddings(client=SentenceTransformer(\n",
       "  (0): Transformer({'max_seq_length': 512, 'do_lower_case': False}) with Transformer model: BertModel \n",
       "  (1): Pooling({'word_embedding_dimension': 1024, 'pooling_mode_cls_token': True, 'pooling_mode_mean_tokens': False, 'pooling_mode_max_tokens': False, 'pooling_mode_mean_sqrt_len_tokens': False, 'pooling_mode_weightedmean_tokens': False, 'pooling_mode_lasttoken': False, 'include_prompt': True})\n",
       "), model_name='mixedbread-ai/mxbai-embed-large-v1', cache_folder=None, model_kwargs={'device': 'cpu'}, encode_kwargs={}, multi_process=False, show_progress=False)"
      ]
     },
     "execution_count": 8,
     "metadata": {},
     "output_type": "execute_result"
    }
   ],
   "source": [
    "embeddings_model"
   ]
  },
  {
   "cell_type": "code",
   "execution_count": 9,
   "id": "8d610fc2",
   "metadata": {},
   "outputs": [],
   "source": [
    "# from sentence_transformers import SentenceTransformer\n",
    "\n",
    "# model = SentenceTransformer(\"mixedbread-ai/mxbai-embed-large-v1\")"
   ]
  },
  {
   "cell_type": "code",
   "execution_count": null,
   "id": "e970af96",
   "metadata": {},
   "outputs": [],
   "source": []
  },
  {
   "cell_type": "code",
   "execution_count": 10,
   "id": "e3aea0e2",
   "metadata": {},
   "outputs": [
    {
     "name": "stdout",
     "output_type": "stream",
     "text": [
      "CPU times: user 18.3 ms, sys: 15.4 ms, total: 33.7 ms\n",
      "Wall time: 65.5 ms\n"
     ]
    }
   ],
   "source": [
    "%%time\n",
    "db = FAISS.load_local(\"mxbai_faiss_index\", embeddings_model, allow_dangerous_deserialization=True)"
   ]
  },
  {
   "cell_type": "code",
   "execution_count": 11,
   "id": "721da3e7",
   "metadata": {},
   "outputs": [],
   "source": [
    "llm = Ollama(model=\"mistral\", temperature=0)\n",
    "query = \"How do I defeat Dreki?\""
   ]
  },
  {
   "cell_type": "code",
   "execution_count": 12,
   "id": "71548356",
   "metadata": {
    "scrolled": true
   },
   "outputs": [
    {
     "name": "stdout",
     "output_type": "stream",
     "text": [
      "Document 1:\n",
      "\n",
      "As you start to deplete the Dreki’s health (approximately two bars), it’ll introduce a slightly new attack into its arsenal that sees the creature leaping from afar, straight into a chomp attack. This attack is indicated by a yellow circle that will appear before it launches the attack.\n",
      "Don’t be afraid to use your Resurrection Stone if you have one. There’s no checkpoint throughout this fight, so if you happen to die again before the fight is over, you’ll respawn with your stone.\n",
      "Once the Dreki reaches half health, it’ll introduce another new attack to the battle, where it’ll launch an unlockable (red) attack that sees it rearing up into the air, as it begins to charge an electrical AoE attack. If you’re within the electrical circle after it finishes charging, you’ll be dealt damage and temporarily stunned, unable to move or block incoming attacks.\n",
      "Higher Difficulty Tip : While the Dreki is charging up its electric attack, use that brief moment as a chance to charge either the Leviathan Axe or the Blades of Chaos to do extra, more impactful damage.\n",
      "----------------------------------------------------------------------------------------------------\n",
      "Document 2:\n",
      "\n",
      "Straight out of the gate, the Dreki will spit a ball of saliva toward you – you’ll be dealt damage if you do not move in time. And while it’s arguably easier to just dodge this attack, it’s also possible to block it with your shield, or even parry it back into the creature if you’re using the Dauntless Shield, dealing damage and temporarily stunning it.\n",
      "Keep in mind, though, to parry the attack, you will need to be very precise with your timing, as it’ll only work if you block the attack just before it hits you. Once the Dreki is stunned, we recommend rushing the creature and unleashing as much heavy damage as possible before the stun effect runs out. This includes using your Runic Attack. Using the Runic Attack early in a fight is generally recommended so you can get the cooldown timer going as soon as possible.\n",
      "Fortunately, the Dreki does not have any unblockable attacks until it reaches half health, so technically speaking, every attack the Dreki throws your way can be blocked; however, this isn’t necessarily very efficient as it makes it quite a bit more challenging to deal damage.\n",
      "----------------------------------------------------------------------------------------------------\n",
      "Document 3:\n",
      "\n",
      "Higher Difficulty Tip : While the Dreki is charging up its electric attack, use that brief moment as a chance to charge either the Leviathan Axe or the Blades of Chaos to do extra, more impactful damage.\n",
      "If you happen to escape the attack, just be sure you stay clear of the electrified spots on the ground; otherwise, you’ll also succumb to being electrified – you’ll need to mash circle to escape the hold of the electricity.\n",
      "----------------------------------------------------------------------------------------------------\n",
      "Document 4:\n",
      "\n",
      "Fortunately, the Dreki does not have any unblockable attacks until it reaches half health, so technically speaking, every attack the Dreki throws your way can be blocked; however, this isn’t necessarily very efficient as it makes it quite a bit more challenging to deal damage.\n",
      "Need some health? Try looking beside the crates that are found along the outskirts of the area.\n"
     ]
    }
   ],
   "source": [
    "retriever = db.as_retriever()\n",
    "docs = retriever.get_relevant_documents(query)\n",
    "pretty_print_docs(docs)"
   ]
  },
  {
   "cell_type": "code",
   "execution_count": 13,
   "id": "1dc5350d",
   "metadata": {},
   "outputs": [
    {
     "name": "stdout",
     "output_type": "stream",
     "text": [
      " Dreki is a dragon boss found in the Elder Scrolls V: Skyrim. Defeating Dreki requires preparation, strategy, and knowledge of its strengths and weaknesses. Here are some steps to help you defeat Dreki:\n",
      "\n",
      "1. Preparation:\n",
      "   - Ensure your character is well-equipped with appropriate armor, weapons, and potions.\n",
      "   - Make sure you have a good selection of spells if you're using magic.\n",
      "   - Save the game before attempting to fight Dreki.\n",
      "\n",
      "2. Location:\n",
      "   - Find Dreki's lair in the northern part of Skyrim, near the Throat of the World.\n",
      "   - Approach the lair cautiously, as there may be dragons guarding the entrance.\n",
      "\n",
      "3. Strategy:\n",
      "   - Use ranged attacks or spells to deal damage from a safe distance.\n",
      "   - If you're using melee, try to avoid getting too close to Dreki's breath attack.\n",
      "   - Focus on damaging Dreki's weak spots: its wings and head.\n",
      "   - Use potions and spells to heal yourself during the fight.\n",
      "\n",
      "4. Tactics:\n",
      "   - If you have a follower, consider bringing them along for additional support.\n",
      "   - Use the environment to your advantage, such as terrain or objects in Dreki's lair.\n",
      "   - Try to keep Dreki airborne as much as possible to limit its ability to use its ground attacks.\n",
      "\n",
      "5. Patience and Perseverance:\n",
      "   - Defeating Dreki may take several attempts, so be patient and learn from each encounter.\n",
      "   - Keep practicing your strategy and adjusting as needed.\n",
      "\n",
      "Remember that every playthrough is unique, so these steps might not guarantee a victory in your game. Good luck, and happy adventuring!\n",
      "CPU times: user 297 ms, sys: 308 ms, total: 605 ms\n",
      "Wall time: 20.7 s\n"
     ]
    }
   ],
   "source": [
    "%%time\n",
    "print(llm.invoke(query))"
   ]
  },
  {
   "cell_type": "code",
   "execution_count": 14,
   "id": "583b0921",
   "metadata": {
    "scrolled": true
   },
   "outputs": [
    {
     "name": "stdout",
     "output_type": "stream",
     "text": [
      "Downloading ms-marco-MultiBERT-L-12...\n"
     ]
    },
    {
     "name": "stderr",
     "output_type": "stream",
     "text": [
      "ms-marco-MultiBERT-L-12.zip: 100%|███████████████████████████████████████████████████████████████████████████████████████████████████████████████████| 98.7M/98.7M [00:11<00:00, 9.03MiB/s]\n"
     ]
    },
    {
     "name": "stdout",
     "output_type": "stream",
     "text": [
      "Document 1:\n",
      "\n",
      "Higher Difficulty Tip : While the Dreki is charging up its electric attack, use that brief moment as a chance to charge either the Leviathan Axe or the Blades of Chaos to do extra, more impactful damage.\n",
      "If you happen to escape the attack, just be sure you stay clear of the electrified spots on the ground; otherwise, you’ll also succumb to being electrified – you’ll need to mash circle to escape the hold of the electricity.\n",
      "----------------------------------------------------------------------------------------------------\n",
      "Document 2:\n",
      "\n",
      "Fortunately, the Dreki does not have any unblockable attacks until it reaches half health, so technically speaking, every attack the Dreki throws your way can be blocked; however, this isn’t necessarily very efficient as it makes it quite a bit more challenging to deal damage.\n",
      "Need some health? Try looking beside the crates that are found along the outskirts of the area.\n",
      "----------------------------------------------------------------------------------------------------\n",
      "Document 3:\n",
      "\n",
      "Straight out of the gate, the Dreki will spit a ball of saliva toward you – you’ll be dealt damage if you do not move in time. And while it’s arguably easier to just dodge this attack, it’s also possible to block it with your shield, or even parry it back into the creature if you’re using the Dauntless Shield, dealing damage and temporarily stunning it.\n",
      "Keep in mind, though, to parry the attack, you will need to be very precise with your timing, as it’ll only work if you block the attack just before it hits you. Once the Dreki is stunned, we recommend rushing the creature and unleashing as much heavy damage as possible before the stun effect runs out. This includes using your Runic Attack. Using the Runic Attack early in a fight is generally recommended so you can get the cooldown timer going as soon as possible.\n",
      "Fortunately, the Dreki does not have any unblockable attacks until it reaches half health, so technically speaking, every attack the Dreki throws your way can be blocked; however, this isn’t necessarily very efficient as it makes it quite a bit more challenging to deal damage.\n"
     ]
    }
   ],
   "source": [
    "compressor = FlashrankRerank()\n",
    "\n",
    "compression_retriever = ContextualCompressionRetriever(\n",
    "    base_compressor=compressor, base_retriever=retriever\n",
    ")\n",
    "\n",
    "compressed_docs = compression_retriever.get_relevant_documents(query)\n",
    "pretty_print_docs(compressed_docs)"
   ]
  },
  {
   "cell_type": "code",
   "execution_count": 15,
   "id": "b2a34c97",
   "metadata": {},
   "outputs": [],
   "source": [
    "chain = RetrievalQA.from_chain_type(\n",
    "    llm=llm, retriever=compression_retriever\n",
    ")"
   ]
  },
  {
   "cell_type": "code",
   "execution_count": 16,
   "id": "0618ace6",
   "metadata": {},
   "outputs": [
    {
     "name": "stderr",
     "output_type": "stream",
     "text": [
      "/Users/jaxxsulav/Projects/LLM/Andromeda1/LangChain/env/lib/python3.11/site-packages/langchain_core/_api/deprecation.py:117: LangChainDeprecationWarning: The function `__call__` was deprecated in LangChain 0.1.0 and will be removed in 0.2.0. Use invoke instead.\n",
      "  warn_deprecated(\n"
     ]
    },
    {
     "name": "stdout",
     "output_type": "stream",
     "text": [
      "CPU times: user 2.34 s, sys: 637 ms, total: 2.98 s\n",
      "Wall time: 7.93 s\n"
     ]
    }
   ],
   "source": [
    "%%time\n",
    "c2 = chain({\"query\": query})"
   ]
  },
  {
   "cell_type": "code",
   "execution_count": 17,
   "id": "3efebe4c",
   "metadata": {},
   "outputs": [
    {
     "name": "stdout",
     "output_type": "stream",
     "text": [
      " To defeat Dreki, you can block or dodge its saliva attack, and when the creature is stunned, rush in and deal heavy damage using your Leviathan Axe, Blades of Chaos, or Runic Attack. Be careful during the Dreki's electric charge-up as it can electrify the ground, potentially harming you. Additionally, avoid getting hit by its other attacks as much as possible. The Dreki does not have any unblockable attacks until it reaches half health.\n"
     ]
    }
   ],
   "source": [
    "print(c2[\"result\"])"
   ]
  },
  {
   "cell_type": "code",
   "execution_count": 18,
   "id": "cd6d2afe",
   "metadata": {},
   "outputs": [
    {
     "name": "stderr",
     "output_type": "stream",
     "text": [
      "/Users/jaxxsulav/Projects/LLM/Andromeda1/LangChain/env/lib/python3.11/site-packages/langchain_core/_api/deprecation.py:117: LangChainDeprecationWarning: The class `langchain_community.llms.cohere.Cohere` was deprecated in langchain-community 0.1.14 and will be removed in 0.2.0. An updated version of the class exists in the langchain-cohere package and should be used instead. To use it run `pip install -U langchain-cohere` and import as `from langchain_cohere import Cohere`.\n",
      "  warn_deprecated(\n"
     ]
    },
    {
     "name": "stdout",
     "output_type": "stream",
     "text": [
      "CPU times: user 3.05 s, sys: 1.65 s, total: 4.7 s\n",
      "Wall time: 16.4 s\n"
     ]
    }
   ],
   "source": [
    "%%time\n",
    "chain = RetrievalQA.from_chain_type(\n",
    "    llm=Cohere(temperature=0), retriever=compression_retriever, chain_type=\"refine\"\n",
    ")\n",
    "c3 = chain({\"query\": query})"
   ]
  },
  {
   "cell_type": "code",
   "execution_count": 19,
   "id": "7d5d6369",
   "metadata": {},
   "outputs": [
    {
     "name": "stdout",
     "output_type": "stream",
     "text": [
      " To defeat the Dreki, you need to avoid its electric attack by mashing the circle button to escape, then attacking it with your axe or blades. Be careful to avoid the electrified spots on the ground. You can also charge your axe or blades during the brief moment while Dreki is charging its electric attack to do extra damage. You may need to repeat this process multiple times to defeat Dreki. If you are using a shield, you can also parry the Dreki's saliva ball attack by blocking it just before it hits you, which will deal damage and temporarily stun the creature. However, it is not recommended to rely solely on blocking its attacks as this will make dealing damage inefficient. Additionally, you can replenish health from crates located outskirts of the area.\n"
     ]
    }
   ],
   "source": [
    "print(c3[\"result\"])"
   ]
  },
  {
   "cell_type": "code",
   "execution_count": 20,
   "id": "264293e6",
   "metadata": {},
   "outputs": [
    {
     "name": "stdout",
     "output_type": "stream",
     "text": [
      "CPU times: user 2.39 s, sys: 599 ms, total: 2.99 s\n",
      "Wall time: 24.7 s\n"
     ]
    }
   ],
   "source": [
    "%%time\n",
    "chain = RetrievalQA.from_chain_type(\n",
    "    llm=llm, retriever=compression_retriever, chain_type=\"refine\", \n",
    ")\n",
    "c4 = chain({\"query\": query})"
   ]
  },
  {
   "cell_type": "code",
   "execution_count": 21,
   "id": "b90f58c7",
   "metadata": {},
   "outputs": [
    {
     "name": "stdout",
     "output_type": "stream",
     "text": [
      " To defeat Dreki, you should be prepared for its various attacks, including its saliva ball which can be dodged or blocked with a shield, or even parried back for damage if using the Dauntless Shield. When Dreki charges up its electric attack, use that brief moment to charge your weapon, either the Leviathan Axe or the Blades of Chaos, to deal extra damage. After escaping the attack, avoid the electrified spots on the ground and mash the circle button to escape the hold of electricity.\n",
      "\n",
      "At the start of the battle, be aware that Dreki will spit a ball of saliva toward you which can be dodged or blocked with a shield. If you choose to block it, you may even parry it back for damage and a temporary stun. Once the creature is stunned, rush in and unleash as much heavy damage as possible before the stun effect runs out. Using your Runic Attack early in the fight is recommended to get the cooldown timer going as soon as possible.\n",
      "\n",
      "Keep in mind that Dreki does not have any unblockable attacks until it reaches half health, but blocking every attack is not very efficient for dealing damage. Therefore, focus on dodging or parrying when possible and use your shield effectively to protect yourself while dealing damage to the creature. Additionally, if you need to restore health during the battle, look for crates located along the outskirts of the area.\n"
     ]
    }
   ],
   "source": [
    "print(c4[\"result\"])"
   ]
  },
  {
   "cell_type": "code",
   "execution_count": 22,
   "id": "49c6b96d-8c4b-4405-bc51-8403368a5365",
   "metadata": {},
   "outputs": [
    {
     "name": "stdout",
     "output_type": "stream",
     "text": [
      "CPU times: user 3.08 s, sys: 1.75 s, total: 4.83 s\n",
      "Wall time: 23.9 s\n"
     ]
    }
   ],
   "source": [
    "%%time\n",
    "chain = RetrievalQA.from_chain_type(\n",
    "    llm=llm, retriever=compression_retriever, chain_type=\"refine\", return_source_documents=True\n",
    ")\n",
    "c5 = chain({\"query\": query})"
   ]
  },
  {
   "cell_type": "code",
   "execution_count": 23,
   "id": "e93c193e",
   "metadata": {},
   "outputs": [
    {
     "name": "stdout",
     "output_type": "stream",
     "text": [
      "[Document(page_content='Higher Difficulty Tip : While the Dreki is charging up its electric attack, use that brief moment as a chance to charge either the Leviathan Axe or the Blades of Chaos to do extra, more impactful damage.\\nIf you happen to escape the attack, just be sure you stay clear of the electrified spots on the ground; otherwise, you’ll also succumb to being electrified – you’ll need to mash circle to escape the hold of the electricity.', metadata={'source': '../data/questfortyr.txt', 'relevance_score': 0.96820515}), Document(page_content='Fortunately, the Dreki does not have any unblockable attacks until it reaches half health, so technically speaking, every attack the Dreki throws your way can be blocked; however, this isn’t necessarily very efficient as it makes it quite a bit more challenging to deal damage.\\nNeed some health? Try looking beside the crates that are found along the outskirts of the area.', metadata={'source': '../data/questfortyr.txt', 'relevance_score': 0.95735055}), Document(page_content='Straight out of the gate, the Dreki will spit a ball of saliva toward you – you’ll be dealt damage if you do not move in time. And while it’s arguably easier to just dodge this attack, it’s also possible to block it with your shield, or even parry it back into the creature if you’re using the Dauntless Shield, dealing damage and temporarily stunning it.\\nKeep in mind, though, to parry the attack, you will need to be very precise with your timing, as it’ll only work if you block the attack just before it hits you. Once the Dreki is stunned, we recommend rushing the creature and unleashing as much heavy damage as possible before the stun effect runs out. This includes using your Runic Attack. Using the Runic Attack early in a fight is generally recommended so you can get the cooldown timer going as soon as possible.\\nFortunately, the Dreki does not have any unblockable attacks until it reaches half health, so technically speaking, every attack the Dreki throws your way can be blocked; however, this isn’t necessarily very efficient as it makes it quite a bit more challenging to deal damage.', metadata={'source': '../data/questfortyr.txt', 'relevance_score': 0.93670195})]\n"
     ]
    }
   ],
   "source": [
    "print(c5['source_documents'])"
   ]
  },
  {
   "cell_type": "code",
   "execution_count": 24,
   "id": "d998e21c",
   "metadata": {},
   "outputs": [
    {
     "name": "stdout",
     "output_type": "stream",
     "text": [
      " To defeat Dreki, you should be prepared for its various attacks, including its saliva ball which can be dodged or blocked with a shield, or even parried back for damage if using the Dauntless Shield. When Dreki charges up its electric attack, use that brief moment to charge your weapon, either the Leviathan Axe or the Blades of Chaos, to deal extra damage. After escaping the attack, avoid the electrified spots on the ground and mash the circle button to escape the hold of electricity.\n",
      "\n",
      "At the start of the battle, be aware that Dreki will spit a ball of saliva toward you which can be dodged or blocked with a shield. If you choose to block it, you may even parry it back for damage and a temporary stun. Once the creature is stunned, rush in and unleash as much heavy damage as possible before the stun effect runs out. Using your Runic Attack early in the fight is recommended to get the cooldown timer going as soon as possible.\n",
      "\n",
      "Keep in mind that Dreki does not have any unblockable attacks until it reaches half health, but blocking every attack is not very efficient for dealing damage. Therefore, focus on dodging or parrying when possible and use your shield effectively to protect yourself while dealing damage to the creature. Additionally, if you need to restore health during the battle, look for crates located along the outskirts of the area.\n"
     ]
    }
   ],
   "source": [
    "print(c5[\"result\"])"
   ]
  },
  {
   "cell_type": "code",
   "execution_count": 26,
   "id": "f211140b",
   "metadata": {},
   "outputs": [
    {
     "name": "stdout",
     "output_type": "stream",
     "text": [
      "[Document(page_content='Once you’re happy with your purchases, exit the store and check the nearby store for any items you may have left behind after rigorous battles – these items can include the likes of Forged Iron and Hacksilver.\\nBefore leaving to speak with Sindri, you may talk to Brok one final time to receive an optional conversation. Then, once you’re ready, talk with Sindri in his office.\\nFollow Sindri to the Workshop\\nAfter a very short cutscene, follow Sindri into his workshop, where he’ll reveal his Bifrost machine.\\nMeet Brok and Sindri at the Mystic Gateway\\nBefore meeting with Brok and Sindri outside, purchase any last items or upgrades – Brok will also offer another optional conversation. Once outside, interact with the gate and watch as Brok and Sindri open the mystic gateway to Svartalfheim with Mimir’s help.\\n\\nOnce the Mystic Gateway is open, collect Mimir from the Bifrost, and head through the door to travel to Svartalfheim as you seek out the help of Durlin, who Brok and Sindri claim that he knew Faye and may know of Tyr’s location.', metadata={'source': '../data/fimbulwinter.txt', 'relevance_score': 0.94678545}), Document(page_content='Having docked the boat, it’s clear the dwarves are not very welcoming. So, to find Durlin, we’ll need to track down someone who will speak to us. Figuring that the Tavern Sindri mentioned will be our best bet, follow Atreus up the ramp and before heading towards the large statue of Odin, look to your left, and you’ll spot a ledge by a water wheel.', metadata={'source': '../data/questfortyr.txt', 'relevance_score': 0.9431731}), Document(page_content='To complete the puzzle, jump down the ledge to your right, where you’ll find a Hacksilver pouch and a Red Coffin – this will contain Forged Iron and some Hacksilver. From here, climb the chain dangling from the ledge above, and make your way to the top of the platform, where you’ll have the ability to use your Blades of Chaos to stop the water flowing from the trough.\\nWith the elevator powered up, return to the ledge at the start of the puzzle, and freeze the trough on your left, just before the end – this will allow any overflow to drop onto the wheel below, rising the metal clamp.', metadata={'source': '../data/questfortyr.txt', 'relevance_score': 0.7677283})]\n",
      "CPU times: user 2.72 s, sys: 1.23 s, total: 3.95 s\n",
      "Wall time: 22.3 s\n"
     ]
    }
   ],
   "source": [
    "%%time\n",
    "chain = RetrievalQA.from_chain_type(\n",
    "    llm=llm, retriever=compression_retriever, chain_type=\"refine\", return_source_documents=True\n",
    ")\n",
    "c6 = chain({\"query\": \"Who are you?\"})\n",
    "print(c6['source_documents'])"
   ]
  },
  {
   "cell_type": "code",
   "execution_count": 27,
   "id": "a5646824",
   "metadata": {},
   "outputs": [
    {
     "name": "stdout",
     "output_type": "stream",
     "text": [
      " In God of Kara, I am an assistant designed to help answer questions based on given context or information. In this specific context, you are Kara, and your current objective is to find Durlin in Svartalfheim. To do so, follow Atreus up the ramp from the docking area, and instead of heading towards the large statue of Odin, look to your left where you'll spot a ledge by a water wheel.\n",
      "\n",
      "To complete the puzzle and reach the next area, jump down the ledge to your right, where you’ll find a Hacksilver pouch and a Red Coffin – this will contain Forged Iron and some Hacksilver. From here, climb the chain dangling from the ledge above, and make your way to the top of the platform. Use your Blades of Chaos to stop the water flowing from the trough.\n",
      "\n",
      "With the elevator powered up, return to the ledge at the start of the puzzle. Freeze the trough on your left, just before the end – this will allow any overflow to drop onto the wheel below, rising the metal clamp. Once the clamp is raised, you should be able to proceed and find Durlin in Svartalfheim.\n"
     ]
    }
   ],
   "source": [
    "print(c6['result'])"
   ]
  },
  {
   "cell_type": "code",
   "execution_count": null,
   "id": "61ce1341",
   "metadata": {},
   "outputs": [],
   "source": []
  }
 ],
 "metadata": {
  "kernelspec": {
   "display_name": "Python 3 (ipykernel)",
   "language": "python",
   "name": "python3"
  },
  "language_info": {
   "codemirror_mode": {
    "name": "ipython",
    "version": 3
   },
   "file_extension": ".py",
   "mimetype": "text/x-python",
   "name": "python",
   "nbconvert_exporter": "python",
   "pygments_lexer": "ipython3",
   "version": "3.11.7"
  }
 },
 "nbformat": 4,
 "nbformat_minor": 5
}
