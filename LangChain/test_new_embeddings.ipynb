{
 "cells": [
  {
   "cell_type": "code",
   "execution_count": 8,
   "id": "ace15b21-763e-432b-b741-a700a28af51d",
   "metadata": {},
   "outputs": [],
   "source": [
    "from langchain_community.document_loaders import DirectoryLoader\n",
    "from langchain_text_splitters import CharacterTextSplitter\n",
    "from langchain_text_splitters import RecursiveCharacterTextSplitter\n",
    "from langchain_text_splitters import TokenTextSplitter\n",
    "from langchain_cohere import CohereEmbeddings\n",
    "from langchain_openai import OpenAIEmbeddings\n",
    "from langchain.embeddings import CacheBackedEmbeddings\n",
    "from langchain.storage import LocalFileStore\n",
    "from langchain.document_loaders import TextLoader\n",
    "from langchain_community.vectorstores import FAISS\n",
    "import os\n",
    "from dotenv import load_dotenv\n",
    "from langchain.retrievers import ContextualCompressionRetriever\n",
    "from langchain.retrievers.document_compressors import LLMChainExtractor\n",
    "from langchain_openai import OpenAI\n",
    "from langchain.retrievers.contextual_compression import ContextualCompressionRetriever\n",
    "from langchain_cohere import CohereRerank\n",
    "from langchain_community.llms import Cohere\n",
    "from langchain.chains import RetrievalQA\n",
    "from langchain_community.llms import Ollama\n",
    "import json\n",
    "from langchain_community.embeddings import OllamaEmbeddings\n",
    "from langchain_community.embeddings import GPT4AllEmbeddings\n",
    "from langchain.chains import RetrievalQAWithSourcesChain\n",
    "\n"
   ]
  },
  {
   "cell_type": "code",
   "execution_count": 9,
   "id": "786b854e",
   "metadata": {},
   "outputs": [],
   "source": [
    "\n",
    "load_dotenv()\n",
    "COHERE_API_KEY = os.getenv('COHERE_API_KEY')"
   ]
  },
  {
   "cell_type": "code",
   "execution_count": 10,
   "id": "d7cb3f6a",
   "metadata": {},
   "outputs": [],
   "source": [
    "def pretty_print_docs(docs):\n",
    "    print(\n",
    "        f\"\\n{'-' * 100}\\n\".join(\n",
    "            [f\"Document {i+1}:\\n\\n\" + d.page_content for i, d in enumerate(docs)]\n",
    "        )\n",
    "    )\n",
    "\n",
    "cache_store = LocalFileStore(\"./cache/\")"
   ]
  },
  {
   "cell_type": "code",
   "execution_count": 11,
   "id": "206eae33",
   "metadata": {},
   "outputs": [
    {
     "name": "stderr",
     "output_type": "stream",
     "text": [
      "100%|██████████████████████████████████████████████████████████████████████████████████████████████████████████████████████████████████████████████████████| 2/2 [00:00<00:00, 2141.04it/s]\n"
     ]
    }
   ],
   "source": [
    "loader = DirectoryLoader('../data', glob=\"*.txt\", loader_cls=TextLoader, show_progress=True)\n",
    "docs = loader.load()\n",
    "# pretty_print_docs(docs)"
   ]
  },
  {
   "cell_type": "code",
   "execution_count": 12,
   "id": "2d6420c0",
   "metadata": {
    "scrolled": true
   },
   "outputs": [],
   "source": [
    "text_splitter = RecursiveCharacterTextSplitter.from_tiktoken_encoder(\n",
    "    chunk_size=256,\n",
    "    chunk_overlap=64,\n",
    ")\n",
    "chunked = text_splitter.split_documents(docs)\n",
    "# print(len(chunked))\n",
    "# pretty_print_docs(chunked)"
   ]
  },
  {
   "cell_type": "code",
   "execution_count": 13,
   "id": "a333bccf",
   "metadata": {},
   "outputs": [],
   "source": [
    "cache_store = LocalFileStore(\"./mxbai_cache/\")"
   ]
  },
  {
   "cell_type": "code",
   "execution_count": 14,
   "id": "f6c300ed",
   "metadata": {},
   "outputs": [
    {
     "name": "stderr",
     "output_type": "stream",
     "text": [
      "Error while downloading from https://cdn-lfs-us-1.huggingface.co/repos/73/9c/739c7bd39907498a59f67f6e49700d5018e3916870557a0db41ec2cbe244fd34/36bfa45da00eb762ef9feebe4cff315ec779efadd08da11846bef5ba5b59b8f8?response-content-disposition=attachment%3B+filename*%3DUTF-8%27%27model.safetensors%3B+filename%3D%22model.safetensors%22%3B&Expires=1713586106&Policy=eyJTdGF0ZW1lbnQiOlt7IkNvbmRpdGlvbiI6eyJEYXRlTGVzc1RoYW4iOnsiQVdTOkVwb2NoVGltZSI6MTcxMzU4NjEwNn19LCJSZXNvdXJjZSI6Imh0dHBzOi8vY2RuLWxmcy11cy0xLmh1Z2dpbmdmYWNlLmNvL3JlcG9zLzczLzljLzczOWM3YmQzOTkwNzQ5OGE1OWY2N2Y2ZTQ5NzAwZDUwMThlMzkxNjg3MDU1N2EwZGI0MWVjMmNiZTI0NGZkMzQvMzZiZmE0NWRhMDBlYjc2MmVmOWZlZWJlNGNmZjMxNWVjNzc5ZWZhZGQwOGRhMTE4NDZiZWY1YmE1YjU5YjhmOD9yZXNwb25zZS1jb250ZW50LWRpc3Bvc2l0aW9uPSoifV19&Signature=EVguQ9DNIBFCVOSto3Qzid0DhnIfwVyJxOaiuwifOYu1Sp%7EnIUxwj3f1eIUKPffIOHyKX91uMb-M4AdyiYIDQq3C1IvRfNrbRLQu2Y52D2qpxTmb%7Ee%7Efjv8eItuRC4N0-c9fidqslJOjasaWsFXlyP8k%7E%7EDzimF3ifYxptS5nQuKp0Q7rOYfgRVkjjb%7EWS9ri2LUl0tJbCoSOpvHJFVWPAj9teJvgTpWKIc6n4%7Efj7DudAI8yjkskDq5zT%7E1Pw5Ed0v0XETf5-krHKOW%7E20ut2MtnjSnJpklUlltp0HEsWCqkxJ6lKWo3CkACKPH6VPnnm6s3U7O2MKyU8R-%7EJwMBA__&Key-Pair-Id=KCD77M1F0VK2B: HTTPSConnectionPool(host='cdn-lfs-us-1.huggingface.co', port=443): Read timed out.\n",
      "Trying to resume download...\n",
      "Error while downloading from https://cdn-lfs-us-1.huggingface.co/repos/73/9c/739c7bd39907498a59f67f6e49700d5018e3916870557a0db41ec2cbe244fd34/36bfa45da00eb762ef9feebe4cff315ec779efadd08da11846bef5ba5b59b8f8?response-content-disposition=attachment%3B+filename*%3DUTF-8%27%27model.safetensors%3B+filename%3D%22model.safetensors%22%3B&Expires=1713586106&Policy=eyJTdGF0ZW1lbnQiOlt7IkNvbmRpdGlvbiI6eyJEYXRlTGVzc1RoYW4iOnsiQVdTOkVwb2NoVGltZSI6MTcxMzU4NjEwNn19LCJSZXNvdXJjZSI6Imh0dHBzOi8vY2RuLWxmcy11cy0xLmh1Z2dpbmdmYWNlLmNvL3JlcG9zLzczLzljLzczOWM3YmQzOTkwNzQ5OGE1OWY2N2Y2ZTQ5NzAwZDUwMThlMzkxNjg3MDU1N2EwZGI0MWVjMmNiZTI0NGZkMzQvMzZiZmE0NWRhMDBlYjc2MmVmOWZlZWJlNGNmZjMxNWVjNzc5ZWZhZGQwOGRhMTE4NDZiZWY1YmE1YjU5YjhmOD9yZXNwb25zZS1jb250ZW50LWRpc3Bvc2l0aW9uPSoifV19&Signature=EVguQ9DNIBFCVOSto3Qzid0DhnIfwVyJxOaiuwifOYu1Sp%7EnIUxwj3f1eIUKPffIOHyKX91uMb-M4AdyiYIDQq3C1IvRfNrbRLQu2Y52D2qpxTmb%7Ee%7Efjv8eItuRC4N0-c9fidqslJOjasaWsFXlyP8k%7E%7EDzimF3ifYxptS5nQuKp0Q7rOYfgRVkjjb%7EWS9ri2LUl0tJbCoSOpvHJFVWPAj9teJvgTpWKIc6n4%7Efj7DudAI8yjkskDq5zT%7E1Pw5Ed0v0XETf5-krHKOW%7E20ut2MtnjSnJpklUlltp0HEsWCqkxJ6lKWo3CkACKPH6VPnnm6s3U7O2MKyU8R-%7EJwMBA__&Key-Pair-Id=KCD77M1F0VK2B: HTTPSConnectionPool(host='cdn-lfs-us-1.huggingface.co', port=443): Read timed out.\n",
      "Trying to resume download...\n"
     ]
    }
   ],
   "source": [
    "from langchain.embeddings import HuggingFaceEmbeddings\n",
    "from transformers import AutoModel\n",
    "model = AutoModel.from_pretrained('mixedbread-ai/mxbai-embed-large-v1', trust_remote_code=True) \n",
    "\n",
    "model_name = \"mixedbread-ai/mxbai-embed-large-v1\"\n",
    "model_kwargs = {'device': 'cpu'}\n",
    "embeddings_model = HuggingFaceEmbeddings(\n",
    "    model_name=model_name,\n",
    "    model_kwargs=model_kwargs,\n",
    ")"
   ]
  },
  {
   "cell_type": "code",
   "execution_count": 22,
   "id": "4a45dbe3",
   "metadata": {},
   "outputs": [
    {
     "data": {
      "text/plain": [
       "HuggingFaceEmbeddings(client=SentenceTransformer(\n",
       "  (0): Transformer({'max_seq_length': 512, 'do_lower_case': False}) with Transformer model: BertModel \n",
       "  (1): Pooling({'word_embedding_dimension': 1024, 'pooling_mode_cls_token': True, 'pooling_mode_mean_tokens': False, 'pooling_mode_max_tokens': False, 'pooling_mode_mean_sqrt_len_tokens': False, 'pooling_mode_weightedmean_tokens': False, 'pooling_mode_lasttoken': False, 'include_prompt': True})\n",
       "), model_name='mixedbread-ai/mxbai-embed-large-v1', cache_folder=None, model_kwargs={'device': 'cpu'}, encode_kwargs={}, multi_process=False, show_progress=False)"
      ]
     },
     "execution_count": 22,
     "metadata": {},
     "output_type": "execute_result"
    }
   ],
   "source": [
    "embeddings_model"
   ]
  },
  {
   "cell_type": "code",
   "execution_count": 17,
   "id": "85f350fc",
   "metadata": {},
   "outputs": [],
   "source": [
    "emb_model = OllamaEmbeddings(\n",
    "    model=\"nomic-embed-text\",\n",
    ")"
   ]
  },
  {
   "cell_type": "code",
   "execution_count": 18,
   "id": "28242607",
   "metadata": {},
   "outputs": [
    {
     "data": {
      "text/plain": [
       "'nomic-embed-text'"
      ]
     },
     "execution_count": 18,
     "metadata": {},
     "output_type": "execute_result"
    }
   ],
   "source": [
    "emb_model.model"
   ]
  },
  {
   "cell_type": "code",
   "execution_count": 20,
   "id": "8d610fc2",
   "metadata": {},
   "outputs": [],
   "source": [
    "# from sentence_transformers import SentenceTransformer\n",
    "\n",
    "# model = SentenceTransformer(\"mixedbread-ai/mxbai-embed-large-v1\")"
   ]
  },
  {
   "cell_type": "code",
   "execution_count": 23,
   "id": "e970af96",
   "metadata": {},
   "outputs": [],
   "source": [
    "cached_embedder = CacheBackedEmbeddings.from_bytes_store(\n",
    "    embeddings_model, cache_store, namespace=\"mixedbread-ai/mxbai-embed-large-v1\")"
   ]
  },
  {
   "cell_type": "code",
   "execution_count": 24,
   "id": "e3aea0e2",
   "metadata": {},
   "outputs": [
    {
     "name": "stdout",
     "output_type": "stream",
     "text": [
      "CPU times: user 1min 40s, sys: 1min 3s, total: 2min 44s\n",
      "Wall time: 33.6 s\n"
     ]
    }
   ],
   "source": [
    "%%time\n",
    "db = FAISS.from_documents(chunked, cached_embedder)"
   ]
  },
  {
   "cell_type": "code",
   "execution_count": 25,
   "id": "721da3e7",
   "metadata": {},
   "outputs": [],
   "source": [
    "llm = Ollama(model=\"mistral\", temperature=0)\n",
    "query = \"How do I defeat Dreki?\""
   ]
  },
  {
   "cell_type": "code",
   "execution_count": 26,
   "id": "71548356",
   "metadata": {
    "scrolled": true
   },
   "outputs": [
    {
     "name": "stdout",
     "output_type": "stream",
     "text": [
      "Document 1:\n",
      "\n",
      "As you start to deplete the Dreki’s health (approximately two bars), it’ll introduce a slightly new attack into its arsenal that sees the creature leaping from afar, straight into a chomp attack. This attack is indicated by a yellow circle that will appear before it launches the attack.\n",
      "Don’t be afraid to use your Resurrection Stone if you have one. There’s no checkpoint throughout this fight, so if you happen to die again before the fight is over, you’ll respawn with your stone.\n",
      "Once the Dreki reaches half health, it’ll introduce another new attack to the battle, where it’ll launch an unlockable (red) attack that sees it rearing up into the air, as it begins to charge an electrical AoE attack. If you’re within the electrical circle after it finishes charging, you’ll be dealt damage and temporarily stunned, unable to move or block incoming attacks.\n",
      "Higher Difficulty Tip : While the Dreki is charging up its electric attack, use that brief moment as a chance to charge either the Leviathan Axe or the Blades of Chaos to do extra, more impactful damage.\n",
      "----------------------------------------------------------------------------------------------------\n",
      "Document 2:\n",
      "\n",
      "Straight out of the gate, the Dreki will spit a ball of saliva toward you – you’ll be dealt damage if you do not move in time. And while it’s arguably easier to just dodge this attack, it’s also possible to block it with your shield, or even parry it back into the creature if you’re using the Dauntless Shield, dealing damage and temporarily stunning it.\n",
      "Keep in mind, though, to parry the attack, you will need to be very precise with your timing, as it’ll only work if you block the attack just before it hits you. Once the Dreki is stunned, we recommend rushing the creature and unleashing as much heavy damage as possible before the stun effect runs out. This includes using your Runic Attack. Using the Runic Attack early in a fight is generally recommended so you can get the cooldown timer going as soon as possible.\n",
      "Fortunately, the Dreki does not have any unblockable attacks until it reaches half health, so technically speaking, every attack the Dreki throws your way can be blocked; however, this isn’t necessarily very efficient as it makes it quite a bit more challenging to deal damage.\n",
      "----------------------------------------------------------------------------------------------------\n",
      "Document 3:\n",
      "\n",
      "Higher Difficulty Tip : While the Dreki is charging up its electric attack, use that brief moment as a chance to charge either the Leviathan Axe or the Blades of Chaos to do extra, more impactful damage.\n",
      "If you happen to escape the attack, just be sure you stay clear of the electrified spots on the ground; otherwise, you’ll also succumb to being electrified – you’ll need to mash circle to escape the hold of the electricity.\n",
      "----------------------------------------------------------------------------------------------------\n",
      "Document 4:\n",
      "\n",
      "Fortunately, the Dreki does not have any unblockable attacks until it reaches half health, so technically speaking, every attack the Dreki throws your way can be blocked; however, this isn’t necessarily very efficient as it makes it quite a bit more challenging to deal damage.\n",
      "Need some health? Try looking beside the crates that are found along the outskirts of the area.\n"
     ]
    }
   ],
   "source": [
    "retriever = db.as_retriever()\n",
    "docs = retriever.get_relevant_documents(query)\n",
    "pretty_print_docs(docs)"
   ]
  },
  {
   "cell_type": "code",
   "execution_count": 27,
   "id": "1dc5350d",
   "metadata": {},
   "outputs": [
    {
     "name": "stdout",
     "output_type": "stream",
     "text": [
      " Dreki is a dragon boss found in the Elder Scrolls V: Skyrim. Defeating Dreki requires preparation, strategy, and knowledge of its strengths and weaknesses. Here are some steps to help you defeat Dreki:\n",
      "\n",
      "1. Preparation:\n",
      "   - Ensure your character is well-equipped with appropriate armor, weapons, and potions.\n",
      "   - Make sure you have a good selection of spells if you're using magic.\n",
      "   - Save the game before attempting to fight Dreki.\n",
      "\n",
      "2. Location:\n",
      "   - Find Dreki's lair in the northern part of Skyrim, near the Throat of the World.\n",
      "   - Approach the lair cautiously, as there may be dragons guarding the entrance.\n",
      "\n",
      "3. Strategy:\n",
      "   - Use ranged attacks or spells to deal damage from a safe distance.\n",
      "   - If you're using melee, try to avoid getting too close to Dreki's breath attack.\n",
      "   - Focus on damaging Dreki's weak spots: its wings and head.\n",
      "   - Use potions and spells to heal yourself during the fight.\n",
      "\n",
      "4. Tactics:\n",
      "   - If you have a follower, consider bringing them along for additional support.\n",
      "   - Use the environment to your advantage, such as terrain or objects in Dreki's lair.\n",
      "   - Try to keep Dreki airborne as much as possible to limit its ability to use its ground attacks.\n",
      "\n",
      "5. Patience and Perseverance:\n",
      "   - Defeating Dreki may take several attempts, so be patient and learn from each encounter.\n",
      "   - Keep practicing your strategy and adjusting as needed.\n",
      "\n",
      "Remember that every playthrough is unique, so these steps might not guarantee a victory in your game. Good luck, and happy adventuring!\n",
      "CPU times: user 94.8 ms, sys: 56.2 ms, total: 151 ms\n",
      "Wall time: 21.8 s\n"
     ]
    }
   ],
   "source": [
    "%%time\n",
    "print(llm.invoke(query))"
   ]
  },
  {
   "cell_type": "code",
   "execution_count": 28,
   "id": "583b0921",
   "metadata": {
    "scrolled": true
   },
   "outputs": [
    {
     "name": "stdout",
     "output_type": "stream",
     "text": [
      "Document 1:\n",
      "\n",
      "Straight out of the gate, the Dreki will spit a ball of saliva toward you – you’ll be dealt damage if you do not move in time. And while it’s arguably easier to just dodge this attack, it’s also possible to block it with your shield, or even parry it back into the creature if you’re using the Dauntless Shield, dealing damage and temporarily stunning it.\n",
      "Keep in mind, though, to parry the attack, you will need to be very precise with your timing, as it’ll only work if you block the attack just before it hits you. Once the Dreki is stunned, we recommend rushing the creature and unleashing as much heavy damage as possible before the stun effect runs out. This includes using your Runic Attack. Using the Runic Attack early in a fight is generally recommended so you can get the cooldown timer going as soon as possible.\n",
      "Fortunately, the Dreki does not have any unblockable attacks until it reaches half health, so technically speaking, every attack the Dreki throws your way can be blocked; however, this isn’t necessarily very efficient as it makes it quite a bit more challenging to deal damage.\n",
      "----------------------------------------------------------------------------------------------------\n",
      "Document 2:\n",
      "\n",
      "Higher Difficulty Tip : While the Dreki is charging up its electric attack, use that brief moment as a chance to charge either the Leviathan Axe or the Blades of Chaos to do extra, more impactful damage.\n",
      "If you happen to escape the attack, just be sure you stay clear of the electrified spots on the ground; otherwise, you’ll also succumb to being electrified – you’ll need to mash circle to escape the hold of the electricity.\n",
      "----------------------------------------------------------------------------------------------------\n",
      "Document 3:\n",
      "\n",
      "Fortunately, the Dreki does not have any unblockable attacks until it reaches half health, so technically speaking, every attack the Dreki throws your way can be blocked; however, this isn’t necessarily very efficient as it makes it quite a bit more challenging to deal damage.\n",
      "Need some health? Try looking beside the crates that are found along the outskirts of the area.\n"
     ]
    }
   ],
   "source": [
    "compressor = CohereRerank()\n",
    "compression_retriever = ContextualCompressionRetriever(\n",
    "    base_compressor=compressor, base_retriever=retriever\n",
    ")\n",
    "\n",
    "compressed_docs = compression_retriever.get_relevant_documents(query)\n",
    "pretty_print_docs(compressed_docs)"
   ]
  },
  {
   "cell_type": "code",
   "execution_count": 29,
   "id": "b2a34c97",
   "metadata": {},
   "outputs": [],
   "source": [
    "chain = RetrievalQA.from_chain_type(\n",
    "    llm=llm, retriever=compression_retriever\n",
    ")"
   ]
  },
  {
   "cell_type": "code",
   "execution_count": 30,
   "id": "0618ace6",
   "metadata": {},
   "outputs": [
    {
     "name": "stderr",
     "output_type": "stream",
     "text": [
      "/Users/jaxxsulav/Projects/LLM/Andromeda1/LangChain/env/lib/python3.11/site-packages/langchain_core/_api/deprecation.py:117: LangChainDeprecationWarning: The function `__call__` was deprecated in LangChain 0.1.0 and will be removed in 0.2.0. Use invoke instead.\n",
      "  warn_deprecated(\n"
     ]
    },
    {
     "name": "stdout",
     "output_type": "stream",
     "text": [
      "CPU times: user 2.04 s, sys: 2.61 s, total: 4.65 s\n",
      "Wall time: 15.3 s\n"
     ]
    }
   ],
   "source": [
    "%%time\n",
    "c2 = chain({\"query\": query})"
   ]
  },
  {
   "cell_type": "code",
   "execution_count": 31,
   "id": "3efebe4c",
   "metadata": {},
   "outputs": [
    {
     "name": "stdout",
     "output_type": "stream",
     "text": [
      " To defeat Dreki, you can dodge its saliva attack, block it with your shield, or parry it back to stun the creature and deal damage. The timing for parrying is crucial. Once stunned, rush in and unleash heavy damage as quickly as possible before the stun effect wears off. You can also charge up your Leviathan Axe or Blades of Chaos during its electric attack for extra damage. Avoid standing on electrified spots on the ground. Dreki does not have any unblockable attacks until it reaches half health, but blocking every attack is less efficient for dealing damage. If you need health, look beside crates found along the outskirts of the area.\n"
     ]
    }
   ],
   "source": [
    "print(c2[\"result\"])"
   ]
  },
  {
   "cell_type": "code",
   "execution_count": 32,
   "id": "cd6d2afe",
   "metadata": {},
   "outputs": [
    {
     "name": "stderr",
     "output_type": "stream",
     "text": [
      "/Users/jaxxsulav/Projects/LLM/Andromeda1/LangChain/env/lib/python3.11/site-packages/langchain_core/_api/deprecation.py:117: LangChainDeprecationWarning: The class `langchain_community.llms.cohere.Cohere` was deprecated in langchain-community 0.1.14 and will be removed in 0.2.0. An updated version of the class exists in the langchain-cohere package and should be used instead. To use it run `pip install -U langchain-cohere` and import as `from langchain_cohere import Cohere`.\n",
      "  warn_deprecated(\n"
     ]
    },
    {
     "name": "stdout",
     "output_type": "stream",
     "text": [
      "CPU times: user 1.64 s, sys: 2.11 s, total: 3.75 s\n",
      "Wall time: 14.3 s\n"
     ]
    }
   ],
   "source": [
    "%%time\n",
    "chain = RetrievalQA.from_chain_type(\n",
    "    llm=Cohere(temperature=0), retriever=compression_retriever, chain_type=\"refine\"\n",
    ")\n",
    "c3 = chain({\"query\": query})"
   ]
  },
  {
   "cell_type": "code",
   "execution_count": 33,
   "id": "7d5d6369",
   "metadata": {},
   "outputs": [
    {
     "name": "stdout",
     "output_type": "stream",
     "text": [
      " To defeat a Dreki you need to dodge, block, and parry its attacks efficiently and rush the creature to inflict as much damage as possible. You might want to consider using your Runic Attack early in the fight to start the cooldown timer as soon soon as possible. Every attack from Dreki can be blocked until it reaches half health, however, it is not efficient to do so as it makes dealing damage challenging. \n",
      "\n",
      "During the fight, you want to make sure you take advantage of opportunities to deal extra damage. While the Dreki is charging up its electric attack, use that brief moment to charge up your weapon. It is important to note that staying clear of the electrified spots on the ground is essential to avoid taking damage. Given the new context, it is also important to note that you can retrieve health packs located beside the crates along the outskirts of the area. \n"
     ]
    }
   ],
   "source": [
    "print(c3[\"result\"])"
   ]
  },
  {
   "cell_type": "code",
   "execution_count": 34,
   "id": "264293e6",
   "metadata": {},
   "outputs": [
    {
     "name": "stdout",
     "output_type": "stream",
     "text": [
      "CPU times: user 1.68 s, sys: 1.42 s, total: 3.1 s\n",
      "Wall time: 40.2 s\n"
     ]
    }
   ],
   "source": [
    "%%time\n",
    "chain = RetrievalQA.from_chain_type(\n",
    "    llm=llm, retriever=compression_retriever, chain_type=\"refine\", \n",
    ")\n",
    "c4 = chain({\"query\": query})"
   ]
  },
  {
   "cell_type": "code",
   "execution_count": 35,
   "id": "b90f58c7",
   "metadata": {},
   "outputs": [
    {
     "name": "stdout",
     "output_type": "stream",
     "text": [
      " Based on the new context provided, here are some additional steps to help you defeat Dreki more effectively:\n",
      "1. When Dreki charges up its electric attack, use this opportunity to charge your weapon, either the Leviathan Axe or the Blades of Chaos, for extra damage.\n",
      "2. If you manage to escape the electric attack, be sure to stay clear of the electrified spots on the ground to avoid being electrified yourself. To do so, mash the circle button to free yourself from the electricity's hold.\n",
      "3. Every attack from Dreki can be blocked, but it may not be very efficient as it makes it more challenging to deal damage. Focus on dealing heavy damage during stun effects and charging your weapon during Dreki's electric attack for extra damage.\n",
      "4. Avoid unblockable attacks until Dreki reaches half health.\n",
      "5. Use precise timing to parry the saliva attack if attempting to do so.\n",
      "6. Stay clear of electrified spots on the ground to avoid being electrified yourself.\n",
      "7. If you need health, try looking beside the crates that are found along the outskirts of the area.\n",
      "8. Follow the steps outlined in the original answer: be prepared for the initial saliva attack, rush in and unleash heavy damage during stun effects, block attacks when necessary, and use precise timing to parry the saliva attack if attempting to do so.\n",
      "9. Charge your weapon during Dreki's electric attack for extra damage.\n",
      "10. Keep in mind that every attack from Dreki can be blocked, but it may not be very efficient as it makes it more challenging to deal damage. Focus on dealing heavy damage during stun effects and staying clear of electrified spots on the ground to avoid being electrified yourself.\n"
     ]
    }
   ],
   "source": [
    "print(c4[\"result\"])"
   ]
  },
  {
   "cell_type": "code",
   "execution_count": 52,
   "id": "49c6b96d-8c4b-4405-bc51-8403368a5365",
   "metadata": {},
   "outputs": [
    {
     "name": "stdout",
     "output_type": "stream",
     "text": [
      "CPU times: user 3.25 s, sys: 3.58 s, total: 6.84 s\n",
      "Wall time: 38.4 s\n"
     ]
    }
   ],
   "source": [
    "%%time\n",
    "chain = RetrievalQA.from_chain_type(\n",
    "    llm=llm, retriever=compression_retriever, chain_type=\"refine\", return_source_documents=True\n",
    ")\n",
    "c5 = chain({\"query\": query})"
   ]
  },
  {
   "cell_type": "code",
   "execution_count": 53,
   "id": "e93c193e",
   "metadata": {},
   "outputs": [
    {
     "name": "stdout",
     "output_type": "stream",
     "text": [
      "[Document(page_content='Straight out of the gate, the Dreki will spit a ball of saliva toward you – you’ll be dealt damage if you do not move in time. And while it’s arguably easier to just dodge this attack, it’s also possible to block it with your shield, or even parry it back into the creature if you’re using the Dauntless Shield, dealing damage and temporarily stunning it.\\nKeep in mind, though, to parry the attack, you will need to be very precise with your timing, as it’ll only work if you block the attack just before it hits you. Once the Dreki is stunned, we recommend rushing the creature and unleashing as much heavy damage as possible before the stun effect runs out. This includes using your Runic Attack. Using the Runic Attack early in a fight is generally recommended so you can get the cooldown timer going as soon as possible.\\nFortunately, the Dreki does not have any unblockable attacks until it reaches half health, so technically speaking, every attack the Dreki throws your way can be blocked; however, this isn’t necessarily very efficient as it makes it quite a bit more challenging to deal damage.', metadata={'source': '../data/questfortyr.txt', 'relevance_score': 0.9896718}), Document(page_content='Higher Difficulty Tip : While the Dreki is charging up its electric attack, use that brief moment as a chance to charge either the Leviathan Axe or the Blades of Chaos to do extra, more impactful damage.\\nIf you happen to escape the attack, just be sure you stay clear of the electrified spots on the ground; otherwise, you’ll also succumb to being electrified – you’ll need to mash circle to escape the hold of the electricity.', metadata={'source': '../data/questfortyr.txt', 'relevance_score': 0.98799264}), Document(page_content='Fortunately, the Dreki does not have any unblockable attacks until it reaches half health, so technically speaking, every attack the Dreki throws your way can be blocked; however, this isn’t necessarily very efficient as it makes it quite a bit more challenging to deal damage.\\nNeed some health? Try looking beside the crates that are found along the outskirts of the area.', metadata={'source': '../data/questfortyr.txt', 'relevance_score': 0.9835338})]\n"
     ]
    }
   ],
   "source": [
    "print(c5['source_documents'])"
   ]
  },
  {
   "cell_type": "code",
   "execution_count": 54,
   "id": "d998e21c",
   "metadata": {},
   "outputs": [
    {
     "name": "stdout",
     "output_type": "stream",
     "text": [
      " Based on the new context provided, here are some additional steps to help you defeat Dreki more effectively:\n",
      "1. When Dreki charges up its electric attack, use this opportunity to charge your weapon, either the Leviathan Axe or the Blades of Chaos, for extra damage.\n",
      "2. If you manage to escape the electric attack, be sure to stay clear of the electrified spots on the ground to avoid being electrified yourself. To do so, mash the circle button to free yourself from the electricity's hold.\n",
      "3. Every attack from Dreki can be blocked, but it may not be very efficient as it makes it more challenging to deal damage. Focus on dealing heavy damage during stun effects and charging your weapon during Dreki's electric attack for extra damage.\n",
      "4. Avoid unblockable attacks until Dreki reaches half health.\n",
      "5. Use precise timing to parry the saliva attack if attempting to do so.\n",
      "6. Stay clear of electrified spots on the ground to avoid being electrified yourself.\n",
      "7. If you need health, try looking beside the crates that are found along the outskirts of the area.\n",
      "8. Follow the steps outlined in the original answer: be prepared for the initial saliva attack, rush in and unleash heavy damage during stun effects, block attacks when necessary, and use precise timing to parry the saliva attack if attempting to do so.\n",
      "9. Charge your weapon during Dreki's electric attack for extra damage.\n",
      "10. Keep in mind that every attack from Dreki can be blocked, but it may not be very efficient as it makes it more challenging to deal damage. Focus on dealing heavy damage during stun effects and staying clear of electrified spots on the ground to avoid being electrified yourself.\n"
     ]
    }
   ],
   "source": [
    "print(c5[\"result\"])"
   ]
  },
  {
   "cell_type": "code",
   "execution_count": null,
   "id": "f211140b",
   "metadata": {},
   "outputs": [],
   "source": []
  }
 ],
 "metadata": {
  "kernelspec": {
   "display_name": "Python 3 (ipykernel)",
   "language": "python",
   "name": "python3"
  },
  "language_info": {
   "codemirror_mode": {
    "name": "ipython",
    "version": 3
   },
   "file_extension": ".py",
   "mimetype": "text/x-python",
   "name": "python",
   "nbconvert_exporter": "python",
   "pygments_lexer": "ipython3",
   "version": "3.11.7"
  }
 },
 "nbformat": 4,
 "nbformat_minor": 5
}
